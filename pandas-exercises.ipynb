{
 "cells": [
  {
   "cell_type": "code",
   "execution_count": 1,
   "id": "6afc6eda",
   "metadata": {
    "execution": {
     "iopub.execute_input": "2024-09-11T14:06:40.773305Z",
     "iopub.status.busy": "2024-09-11T14:06:40.772874Z",
     "iopub.status.idle": "2024-09-11T14:06:42.613081Z",
     "shell.execute_reply": "2024-09-11T14:06:42.612202Z"
    },
    "papermill": {
     "duration": 1.851917,
     "end_time": "2024-09-11T14:06:42.615425",
     "exception": false,
     "start_time": "2024-09-11T14:06:40.763508",
     "status": "completed"
    },
    "tags": []
   },
   "outputs": [],
   "source": [
    "import numpy as np\n",
    "import seaborn as sns\n",
    "import pandas as pd\n",
    "pd.set_option('display.max_rows', None)\n",
    "pd.set_option('display.max_columns', None)\n",
    "pd.set_option('display.width', 1000)"
   ]
  },
  {
   "cell_type": "code",
   "execution_count": 2,
   "id": "a7620417",
   "metadata": {
    "execution": {
     "iopub.execute_input": "2024-09-11T14:06:42.632968Z",
     "iopub.status.busy": "2024-09-11T14:06:42.631936Z",
     "iopub.status.idle": "2024-09-11T14:06:42.674616Z",
     "shell.execute_reply": "2024-09-11T14:06:42.673550Z"
    },
    "papermill": {
     "duration": 0.054281,
     "end_time": "2024-09-11T14:06:42.677288",
     "exception": false,
     "start_time": "2024-09-11T14:06:42.623007",
     "status": "completed"
    },
    "tags": []
   },
   "outputs": [
    {
     "data": {
      "text/html": [
       "<div>\n",
       "<style scoped>\n",
       "    .dataframe tbody tr th:only-of-type {\n",
       "        vertical-align: middle;\n",
       "    }\n",
       "\n",
       "    .dataframe tbody tr th {\n",
       "        vertical-align: top;\n",
       "    }\n",
       "\n",
       "    .dataframe thead th {\n",
       "        text-align: right;\n",
       "    }\n",
       "</style>\n",
       "<table border=\"1\" class=\"dataframe\">\n",
       "  <thead>\n",
       "    <tr style=\"text-align: right;\">\n",
       "      <th></th>\n",
       "      <th>survived</th>\n",
       "      <th>pclass</th>\n",
       "      <th>sex</th>\n",
       "      <th>age</th>\n",
       "      <th>sibsp</th>\n",
       "      <th>parch</th>\n",
       "      <th>fare</th>\n",
       "      <th>embarked</th>\n",
       "      <th>class</th>\n",
       "      <th>who</th>\n",
       "      <th>adult_male</th>\n",
       "      <th>deck</th>\n",
       "      <th>embark_town</th>\n",
       "      <th>alive</th>\n",
       "      <th>alone</th>\n",
       "    </tr>\n",
       "  </thead>\n",
       "  <tbody>\n",
       "    <tr>\n",
       "      <th>0</th>\n",
       "      <td>0</td>\n",
       "      <td>3</td>\n",
       "      <td>male</td>\n",
       "      <td>22.0</td>\n",
       "      <td>1</td>\n",
       "      <td>0</td>\n",
       "      <td>7.2500</td>\n",
       "      <td>S</td>\n",
       "      <td>Third</td>\n",
       "      <td>man</td>\n",
       "      <td>True</td>\n",
       "      <td>NaN</td>\n",
       "      <td>Southampton</td>\n",
       "      <td>no</td>\n",
       "      <td>False</td>\n",
       "    </tr>\n",
       "    <tr>\n",
       "      <th>1</th>\n",
       "      <td>1</td>\n",
       "      <td>1</td>\n",
       "      <td>female</td>\n",
       "      <td>38.0</td>\n",
       "      <td>1</td>\n",
       "      <td>0</td>\n",
       "      <td>71.2833</td>\n",
       "      <td>C</td>\n",
       "      <td>First</td>\n",
       "      <td>woman</td>\n",
       "      <td>False</td>\n",
       "      <td>C</td>\n",
       "      <td>Cherbourg</td>\n",
       "      <td>yes</td>\n",
       "      <td>False</td>\n",
       "    </tr>\n",
       "    <tr>\n",
       "      <th>2</th>\n",
       "      <td>1</td>\n",
       "      <td>3</td>\n",
       "      <td>female</td>\n",
       "      <td>26.0</td>\n",
       "      <td>0</td>\n",
       "      <td>0</td>\n",
       "      <td>7.9250</td>\n",
       "      <td>S</td>\n",
       "      <td>Third</td>\n",
       "      <td>woman</td>\n",
       "      <td>False</td>\n",
       "      <td>NaN</td>\n",
       "      <td>Southampton</td>\n",
       "      <td>yes</td>\n",
       "      <td>True</td>\n",
       "    </tr>\n",
       "    <tr>\n",
       "      <th>3</th>\n",
       "      <td>1</td>\n",
       "      <td>1</td>\n",
       "      <td>female</td>\n",
       "      <td>35.0</td>\n",
       "      <td>1</td>\n",
       "      <td>0</td>\n",
       "      <td>53.1000</td>\n",
       "      <td>S</td>\n",
       "      <td>First</td>\n",
       "      <td>woman</td>\n",
       "      <td>False</td>\n",
       "      <td>C</td>\n",
       "      <td>Southampton</td>\n",
       "      <td>yes</td>\n",
       "      <td>False</td>\n",
       "    </tr>\n",
       "    <tr>\n",
       "      <th>4</th>\n",
       "      <td>0</td>\n",
       "      <td>3</td>\n",
       "      <td>male</td>\n",
       "      <td>35.0</td>\n",
       "      <td>0</td>\n",
       "      <td>0</td>\n",
       "      <td>8.0500</td>\n",
       "      <td>S</td>\n",
       "      <td>Third</td>\n",
       "      <td>man</td>\n",
       "      <td>True</td>\n",
       "      <td>NaN</td>\n",
       "      <td>Southampton</td>\n",
       "      <td>no</td>\n",
       "      <td>True</td>\n",
       "    </tr>\n",
       "  </tbody>\n",
       "</table>\n",
       "</div>"
      ],
      "text/plain": [
       "   survived  pclass     sex   age  sibsp  parch     fare embarked  class    who  adult_male deck  embark_town alive  alone\n",
       "0         0       3    male  22.0      1      0   7.2500        S  Third    man        True  NaN  Southampton    no  False\n",
       "1         1       1  female  38.0      1      0  71.2833        C  First  woman       False    C    Cherbourg   yes  False\n",
       "2         1       3  female  26.0      0      0   7.9250        S  Third  woman       False  NaN  Southampton   yes   True\n",
       "3         1       1  female  35.0      1      0  53.1000        S  First  woman       False    C  Southampton   yes  False\n",
       "4         0       3    male  35.0      0      0   8.0500        S  Third    man        True  NaN  Southampton    no   True"
      ]
     },
     "execution_count": 2,
     "metadata": {},
     "output_type": "execute_result"
    }
   ],
   "source": [
    "#########################################\n",
    "# Görev 1: Seaborn kütüphanesi içerisinden Titanic veri setini tanımlayınız.\n",
    "# Task 1: Load the Titanic dataset from the Seaborn library.\n",
    "#########################################\n",
    "\n",
    "#df = sns.load_dataset(\"titanic\")\n",
    "df = pd.read_csv(\"/kaggle/input/titanic-dataset-csv/titanic.csv\")\n",
    "df.head()"
   ]
  },
  {
   "cell_type": "code",
   "execution_count": 3,
   "id": "43287118",
   "metadata": {
    "execution": {
     "iopub.execute_input": "2024-09-11T14:06:42.694513Z",
     "iopub.status.busy": "2024-09-11T14:06:42.693925Z",
     "iopub.status.idle": "2024-09-11T14:06:42.705491Z",
     "shell.execute_reply": "2024-09-11T14:06:42.704623Z"
    },
    "papermill": {
     "duration": 0.022512,
     "end_time": "2024-09-11T14:06:42.707749",
     "exception": false,
     "start_time": "2024-09-11T14:06:42.685237",
     "status": "completed"
    },
    "tags": []
   },
   "outputs": [
    {
     "data": {
      "text/plain": [
       "sex\n",
       "male      577\n",
       "female    314\n",
       "Name: count, dtype: int64"
      ]
     },
     "execution_count": 3,
     "metadata": {},
     "output_type": "execute_result"
    }
   ],
   "source": [
    "#########################################\n",
    "# Görev 2: Yukarıda tanımlanan Titanic veri setindeki kadın ve erkek yolcuların sayısını bulunuz.\n",
    "# Task 2: Find the number of male and female passengers in the Titanic dataset defined above.\n",
    "#########################################\n",
    "\n",
    "df[\"sex\"].value_counts()"
   ]
  },
  {
   "cell_type": "code",
   "execution_count": 4,
   "id": "d1d4f2cd",
   "metadata": {
    "execution": {
     "iopub.execute_input": "2024-09-11T14:06:42.724435Z",
     "iopub.status.busy": "2024-09-11T14:06:42.724087Z",
     "iopub.status.idle": "2024-09-11T14:06:42.735983Z",
     "shell.execute_reply": "2024-09-11T14:06:42.735110Z"
    },
    "papermill": {
     "duration": 0.022575,
     "end_time": "2024-09-11T14:06:42.738055",
     "exception": false,
     "start_time": "2024-09-11T14:06:42.715480",
     "status": "completed"
    },
    "tags": []
   },
   "outputs": [
    {
     "data": {
      "text/plain": [
       "survived         2\n",
       "pclass           3\n",
       "sex              2\n",
       "age             88\n",
       "sibsp            7\n",
       "parch            7\n",
       "fare           248\n",
       "embarked         3\n",
       "class            3\n",
       "who              3\n",
       "adult_male       2\n",
       "deck             7\n",
       "embark_town      3\n",
       "alive            2\n",
       "alone            2\n",
       "dtype: int64"
      ]
     },
     "execution_count": 4,
     "metadata": {},
     "output_type": "execute_result"
    }
   ],
   "source": [
    "#########################################\n",
    "# Görev 3: Her bir sutuna ait unique değerlerin sayısını bulunuz.\n",
    "# Task 3: Find the number of unique values for each column.\n",
    "#########################################\n",
    "\n",
    "df.nunique()"
   ]
  },
  {
   "cell_type": "code",
   "execution_count": 5,
   "id": "99e02e0a",
   "metadata": {
    "execution": {
     "iopub.execute_input": "2024-09-11T14:06:42.755684Z",
     "iopub.status.busy": "2024-09-11T14:06:42.754904Z",
     "iopub.status.idle": "2024-09-11T14:06:42.762524Z",
     "shell.execute_reply": "2024-09-11T14:06:42.761497Z"
    },
    "papermill": {
     "duration": 0.018573,
     "end_time": "2024-09-11T14:06:42.764579",
     "exception": false,
     "start_time": "2024-09-11T14:06:42.746006",
     "status": "completed"
    },
    "tags": []
   },
   "outputs": [
    {
     "data": {
      "text/plain": [
       "array([3, 1, 2])"
      ]
     },
     "execution_count": 5,
     "metadata": {},
     "output_type": "execute_result"
    }
   ],
   "source": [
    "#########################################\n",
    "# Görev 4: pclass değişkeninin unique değerleri bulunuz.\n",
    "# Task 4: Find the unique values of the pclass variable.\n",
    "#########################################\n",
    "\n",
    "df[\"pclass\"].unique()"
   ]
  },
  {
   "cell_type": "code",
   "execution_count": 6,
   "id": "373054b2",
   "metadata": {
    "execution": {
     "iopub.execute_input": "2024-09-11T14:06:42.782184Z",
     "iopub.status.busy": "2024-09-11T14:06:42.781876Z",
     "iopub.status.idle": "2024-09-11T14:06:42.795140Z",
     "shell.execute_reply": "2024-09-11T14:06:42.794141Z"
    },
    "papermill": {
     "duration": 0.024647,
     "end_time": "2024-09-11T14:06:42.797498",
     "exception": false,
     "start_time": "2024-09-11T14:06:42.772851",
     "status": "completed"
    },
    "tags": []
   },
   "outputs": [
    {
     "data": {
      "text/plain": [
       "pclass    3\n",
       "parch     7\n",
       "dtype: int64"
      ]
     },
     "execution_count": 6,
     "metadata": {},
     "output_type": "execute_result"
    }
   ],
   "source": [
    "#########################################\n",
    "# Görev 5:  pclass ve parch değişkenlerinin unique değerlerinin sayısını bulunuz.\n",
    "# Task 5: Find the number of unique values for the pclass and parch variables.\n",
    "#########################################\n",
    "\n",
    "df[[\"pclass\", \"parch\"]].nunique()"
   ]
  },
  {
   "cell_type": "code",
   "execution_count": 7,
   "id": "c82f5087",
   "metadata": {
    "execution": {
     "iopub.execute_input": "2024-09-11T14:06:42.815379Z",
     "iopub.status.busy": "2024-09-11T14:06:42.815023Z",
     "iopub.status.idle": "2024-09-11T14:06:42.822861Z",
     "shell.execute_reply": "2024-09-11T14:06:42.821830Z"
    },
    "papermill": {
     "duration": 0.018827,
     "end_time": "2024-09-11T14:06:42.824826",
     "exception": false,
     "start_time": "2024-09-11T14:06:42.805999",
     "status": "completed"
    },
    "tags": []
   },
   "outputs": [
    {
     "name": "stdout",
     "output_type": "stream",
     "text": [
      "category\n"
     ]
    }
   ],
   "source": [
    "#########################################\n",
    "# Görev 6: embarked değişkeninin tipini kontrol ediniz. Tipini category olarak değiştiriniz. Tekrar tipini kontrol ediniz.\n",
    "# Task 6: Check the type of the embarked variable. Change its type to category. Check its type again.\n",
    "#########################################\n",
    "\n",
    "df[\"embarked\"].dtypes\n",
    "\n",
    "df[\"embarked\"] = df[\"embarked\"].astype(\"category\")\n",
    "\n",
    "df[\"embarked\"].dtypes\n",
    "\n",
    "print(df[\"embarked\"].astype(\"category\").dtypes)"
   ]
  },
  {
   "cell_type": "code",
   "execution_count": 8,
   "id": "7d43f4a9",
   "metadata": {
    "execution": {
     "iopub.execute_input": "2024-09-11T14:06:42.842507Z",
     "iopub.status.busy": "2024-09-11T14:06:42.841900Z",
     "iopub.status.idle": "2024-09-11T14:06:42.855798Z",
     "shell.execute_reply": "2024-09-11T14:06:42.854979Z"
    },
    "papermill": {
     "duration": 0.025052,
     "end_time": "2024-09-11T14:06:42.858074",
     "exception": false,
     "start_time": "2024-09-11T14:06:42.833022",
     "status": "completed"
    },
    "tags": []
   },
   "outputs": [
    {
     "name": "stdout",
     "output_type": "stream",
     "text": [
      "    survived  pclass     sex   age  sibsp  parch     fare embarked   class    who  adult_male deck embark_town alive  alone\n",
      "1          1       1  female  38.0      1      0  71.2833        C   First  woman       False    C   Cherbourg   yes  False\n",
      "9          1       2  female  14.0      1      0  30.0708        C  Second  child       False  NaN   Cherbourg   yes  False\n",
      "19         1       3  female   NaN      0      0   7.2250        C   Third  woman       False  NaN   Cherbourg   yes   True\n",
      "26         0       3    male   NaN      0      0   7.2250        C   Third    man        True  NaN   Cherbourg    no   True\n",
      "30         0       1    male  40.0      0      0  27.7208        C   First    man        True  NaN   Cherbourg    no   True\n"
     ]
    }
   ],
   "source": [
    "#########################################\n",
    "# Görev 7: embarked değeri C olanların tüm bilgelerini gösteriniz.\n",
    "# Task 7: Show all records where the embarked value is 'C'.\n",
    "#########################################\n",
    "\n",
    "\n",
    "df.loc[(df[\"embarked\"] == \"C\")]\n",
    "\n",
    "embarked_c = df[df['embarked'] == \"C\"].head()\n",
    "print(embarked_c)"
   ]
  },
  {
   "cell_type": "code",
   "execution_count": 9,
   "id": "d1f66efb",
   "metadata": {
    "execution": {
     "iopub.execute_input": "2024-09-11T14:06:42.876124Z",
     "iopub.status.busy": "2024-09-11T14:06:42.875782Z",
     "iopub.status.idle": "2024-09-11T14:06:42.894770Z",
     "shell.execute_reply": "2024-09-11T14:06:42.893917Z"
    },
    "papermill": {
     "duration": 0.030229,
     "end_time": "2024-09-11T14:06:42.896746",
     "exception": false,
     "start_time": "2024-09-11T14:06:42.866517",
     "status": "completed"
    },
    "tags": []
   },
   "outputs": [
    {
     "data": {
      "text/html": [
       "<div>\n",
       "<style scoped>\n",
       "    .dataframe tbody tr th:only-of-type {\n",
       "        vertical-align: middle;\n",
       "    }\n",
       "\n",
       "    .dataframe tbody tr th {\n",
       "        vertical-align: top;\n",
       "    }\n",
       "\n",
       "    .dataframe thead th {\n",
       "        text-align: right;\n",
       "    }\n",
       "</style>\n",
       "<table border=\"1\" class=\"dataframe\">\n",
       "  <thead>\n",
       "    <tr style=\"text-align: right;\">\n",
       "      <th></th>\n",
       "      <th>survived</th>\n",
       "      <th>pclass</th>\n",
       "      <th>sex</th>\n",
       "      <th>age</th>\n",
       "      <th>sibsp</th>\n",
       "      <th>parch</th>\n",
       "      <th>fare</th>\n",
       "      <th>embarked</th>\n",
       "      <th>class</th>\n",
       "      <th>who</th>\n",
       "      <th>adult_male</th>\n",
       "      <th>deck</th>\n",
       "      <th>embark_town</th>\n",
       "      <th>alive</th>\n",
       "      <th>alone</th>\n",
       "    </tr>\n",
       "  </thead>\n",
       "  <tbody>\n",
       "    <tr>\n",
       "      <th>1</th>\n",
       "      <td>1</td>\n",
       "      <td>1</td>\n",
       "      <td>female</td>\n",
       "      <td>38.0</td>\n",
       "      <td>1</td>\n",
       "      <td>0</td>\n",
       "      <td>71.2833</td>\n",
       "      <td>C</td>\n",
       "      <td>First</td>\n",
       "      <td>woman</td>\n",
       "      <td>False</td>\n",
       "      <td>C</td>\n",
       "      <td>Cherbourg</td>\n",
       "      <td>yes</td>\n",
       "      <td>False</td>\n",
       "    </tr>\n",
       "    <tr>\n",
       "      <th>5</th>\n",
       "      <td>0</td>\n",
       "      <td>3</td>\n",
       "      <td>male</td>\n",
       "      <td>NaN</td>\n",
       "      <td>0</td>\n",
       "      <td>0</td>\n",
       "      <td>8.4583</td>\n",
       "      <td>Q</td>\n",
       "      <td>Third</td>\n",
       "      <td>man</td>\n",
       "      <td>True</td>\n",
       "      <td>NaN</td>\n",
       "      <td>Queenstown</td>\n",
       "      <td>no</td>\n",
       "      <td>True</td>\n",
       "    </tr>\n",
       "    <tr>\n",
       "      <th>9</th>\n",
       "      <td>1</td>\n",
       "      <td>2</td>\n",
       "      <td>female</td>\n",
       "      <td>14.0</td>\n",
       "      <td>1</td>\n",
       "      <td>0</td>\n",
       "      <td>30.0708</td>\n",
       "      <td>C</td>\n",
       "      <td>Second</td>\n",
       "      <td>child</td>\n",
       "      <td>False</td>\n",
       "      <td>NaN</td>\n",
       "      <td>Cherbourg</td>\n",
       "      <td>yes</td>\n",
       "      <td>False</td>\n",
       "    </tr>\n",
       "    <tr>\n",
       "      <th>16</th>\n",
       "      <td>0</td>\n",
       "      <td>3</td>\n",
       "      <td>male</td>\n",
       "      <td>2.0</td>\n",
       "      <td>4</td>\n",
       "      <td>1</td>\n",
       "      <td>29.1250</td>\n",
       "      <td>Q</td>\n",
       "      <td>Third</td>\n",
       "      <td>child</td>\n",
       "      <td>False</td>\n",
       "      <td>NaN</td>\n",
       "      <td>Queenstown</td>\n",
       "      <td>no</td>\n",
       "      <td>False</td>\n",
       "    </tr>\n",
       "    <tr>\n",
       "      <th>19</th>\n",
       "      <td>1</td>\n",
       "      <td>3</td>\n",
       "      <td>female</td>\n",
       "      <td>NaN</td>\n",
       "      <td>0</td>\n",
       "      <td>0</td>\n",
       "      <td>7.2250</td>\n",
       "      <td>C</td>\n",
       "      <td>Third</td>\n",
       "      <td>woman</td>\n",
       "      <td>False</td>\n",
       "      <td>NaN</td>\n",
       "      <td>Cherbourg</td>\n",
       "      <td>yes</td>\n",
       "      <td>True</td>\n",
       "    </tr>\n",
       "  </tbody>\n",
       "</table>\n",
       "</div>"
      ],
      "text/plain": [
       "    survived  pclass     sex   age  sibsp  parch     fare embarked   class    who  adult_male deck embark_town alive  alone\n",
       "1          1       1  female  38.0      1      0  71.2833        C   First  woman       False    C   Cherbourg   yes  False\n",
       "5          0       3    male   NaN      0      0   8.4583        Q   Third    man        True  NaN  Queenstown    no   True\n",
       "9          1       2  female  14.0      1      0  30.0708        C  Second  child       False  NaN   Cherbourg   yes  False\n",
       "16         0       3    male   2.0      4      1  29.1250        Q   Third  child       False  NaN  Queenstown    no  False\n",
       "19         1       3  female   NaN      0      0   7.2250        C   Third  woman       False  NaN   Cherbourg   yes   True"
      ]
     },
     "execution_count": 9,
     "metadata": {},
     "output_type": "execute_result"
    }
   ],
   "source": [
    "#########################################\n",
    "# Görev 8: embarked değeri S olmayanların tüm bilgelerini gösteriniz.\n",
    "# Task 8: Show all records where the embarked value is NOT 'S'.\n",
    "#########################################\n",
    "\n",
    "df.loc[(df[\"embarked\"] != \"S\")]\n",
    "\n",
    "embarked_s=df[df['embarked']!='S']\n",
    "embarked_s.head()"
   ]
  },
  {
   "cell_type": "code",
   "execution_count": 10,
   "id": "b0ad0172",
   "metadata": {
    "execution": {
     "iopub.execute_input": "2024-09-11T14:06:42.915297Z",
     "iopub.status.busy": "2024-09-11T14:06:42.915003Z",
     "iopub.status.idle": "2024-09-11T14:06:42.935880Z",
     "shell.execute_reply": "2024-09-11T14:06:42.934985Z"
    },
    "papermill": {
     "duration": 0.032481,
     "end_time": "2024-09-11T14:06:42.937911",
     "exception": false,
     "start_time": "2024-09-11T14:06:42.905430",
     "status": "completed"
    },
    "tags": []
   },
   "outputs": [
    {
     "data": {
      "text/html": [
       "<div>\n",
       "<style scoped>\n",
       "    .dataframe tbody tr th:only-of-type {\n",
       "        vertical-align: middle;\n",
       "    }\n",
       "\n",
       "    .dataframe tbody tr th {\n",
       "        vertical-align: top;\n",
       "    }\n",
       "\n",
       "    .dataframe thead th {\n",
       "        text-align: right;\n",
       "    }\n",
       "</style>\n",
       "<table border=\"1\" class=\"dataframe\">\n",
       "  <thead>\n",
       "    <tr style=\"text-align: right;\">\n",
       "      <th></th>\n",
       "      <th>survived</th>\n",
       "      <th>pclass</th>\n",
       "      <th>sex</th>\n",
       "      <th>age</th>\n",
       "      <th>sibsp</th>\n",
       "      <th>parch</th>\n",
       "      <th>fare</th>\n",
       "      <th>embarked</th>\n",
       "      <th>class</th>\n",
       "      <th>who</th>\n",
       "      <th>adult_male</th>\n",
       "      <th>deck</th>\n",
       "      <th>embark_town</th>\n",
       "      <th>alive</th>\n",
       "      <th>alone</th>\n",
       "    </tr>\n",
       "  </thead>\n",
       "  <tbody>\n",
       "    <tr>\n",
       "      <th>2</th>\n",
       "      <td>1</td>\n",
       "      <td>3</td>\n",
       "      <td>female</td>\n",
       "      <td>26.0</td>\n",
       "      <td>0</td>\n",
       "      <td>0</td>\n",
       "      <td>7.9250</td>\n",
       "      <td>S</td>\n",
       "      <td>Third</td>\n",
       "      <td>woman</td>\n",
       "      <td>False</td>\n",
       "      <td>NaN</td>\n",
       "      <td>Southampton</td>\n",
       "      <td>yes</td>\n",
       "      <td>True</td>\n",
       "    </tr>\n",
       "    <tr>\n",
       "      <th>8</th>\n",
       "      <td>1</td>\n",
       "      <td>3</td>\n",
       "      <td>female</td>\n",
       "      <td>27.0</td>\n",
       "      <td>0</td>\n",
       "      <td>2</td>\n",
       "      <td>11.1333</td>\n",
       "      <td>S</td>\n",
       "      <td>Third</td>\n",
       "      <td>woman</td>\n",
       "      <td>False</td>\n",
       "      <td>NaN</td>\n",
       "      <td>Southampton</td>\n",
       "      <td>yes</td>\n",
       "      <td>False</td>\n",
       "    </tr>\n",
       "    <tr>\n",
       "      <th>9</th>\n",
       "      <td>1</td>\n",
       "      <td>2</td>\n",
       "      <td>female</td>\n",
       "      <td>14.0</td>\n",
       "      <td>1</td>\n",
       "      <td>0</td>\n",
       "      <td>30.0708</td>\n",
       "      <td>C</td>\n",
       "      <td>Second</td>\n",
       "      <td>child</td>\n",
       "      <td>False</td>\n",
       "      <td>NaN</td>\n",
       "      <td>Cherbourg</td>\n",
       "      <td>yes</td>\n",
       "      <td>False</td>\n",
       "    </tr>\n",
       "    <tr>\n",
       "      <th>10</th>\n",
       "      <td>1</td>\n",
       "      <td>3</td>\n",
       "      <td>female</td>\n",
       "      <td>4.0</td>\n",
       "      <td>1</td>\n",
       "      <td>1</td>\n",
       "      <td>16.7000</td>\n",
       "      <td>S</td>\n",
       "      <td>Third</td>\n",
       "      <td>child</td>\n",
       "      <td>False</td>\n",
       "      <td>G</td>\n",
       "      <td>Southampton</td>\n",
       "      <td>yes</td>\n",
       "      <td>False</td>\n",
       "    </tr>\n",
       "    <tr>\n",
       "      <th>14</th>\n",
       "      <td>0</td>\n",
       "      <td>3</td>\n",
       "      <td>female</td>\n",
       "      <td>14.0</td>\n",
       "      <td>0</td>\n",
       "      <td>0</td>\n",
       "      <td>7.8542</td>\n",
       "      <td>S</td>\n",
       "      <td>Third</td>\n",
       "      <td>child</td>\n",
       "      <td>False</td>\n",
       "      <td>NaN</td>\n",
       "      <td>Southampton</td>\n",
       "      <td>no</td>\n",
       "      <td>True</td>\n",
       "    </tr>\n",
       "  </tbody>\n",
       "</table>\n",
       "</div>"
      ],
      "text/plain": [
       "    survived  pclass     sex   age  sibsp  parch     fare embarked   class    who  adult_male deck  embark_town alive  alone\n",
       "2          1       3  female  26.0      0      0   7.9250        S   Third  woman       False  NaN  Southampton   yes   True\n",
       "8          1       3  female  27.0      0      2  11.1333        S   Third  woman       False  NaN  Southampton   yes  False\n",
       "9          1       2  female  14.0      1      0  30.0708        C  Second  child       False  NaN    Cherbourg   yes  False\n",
       "10         1       3  female   4.0      1      1  16.7000        S   Third  child       False    G  Southampton   yes  False\n",
       "14         0       3  female  14.0      0      0   7.8542        S   Third  child       False  NaN  Southampton    no   True"
      ]
     },
     "execution_count": 10,
     "metadata": {},
     "output_type": "execute_result"
    }
   ],
   "source": [
    "#########################################\n",
    "# Görev 9: Yaşı 30 dan küçük ve kadın olan yolcuların tüm bilgilerini gösteriniz.\n",
    "# Task 9: Show all records where the age is less than 30 and the passenger is female.\n",
    "#########################################\n",
    "\n",
    "df.loc[(df[\"age\"]<30) & (df[\"sex\"]==\"female\")]\n",
    "\n",
    "female_age_r=df[(df[\"sex\"]==\"female\") & (df[\"age\"]<30)]\n",
    "female_age_r.head()"
   ]
  },
  {
   "cell_type": "code",
   "execution_count": 11,
   "id": "90877e7f",
   "metadata": {
    "execution": {
     "iopub.execute_input": "2024-09-11T14:06:42.957134Z",
     "iopub.status.busy": "2024-09-11T14:06:42.956828Z",
     "iopub.status.idle": "2024-09-11T14:06:42.977091Z",
     "shell.execute_reply": "2024-09-11T14:06:42.976197Z"
    },
    "papermill": {
     "duration": 0.032313,
     "end_time": "2024-09-11T14:06:42.979241",
     "exception": false,
     "start_time": "2024-09-11T14:06:42.946928",
     "status": "completed"
    },
    "tags": []
   },
   "outputs": [
    {
     "data": {
      "text/html": [
       "<div>\n",
       "<style scoped>\n",
       "    .dataframe tbody tr th:only-of-type {\n",
       "        vertical-align: middle;\n",
       "    }\n",
       "\n",
       "    .dataframe tbody tr th {\n",
       "        vertical-align: top;\n",
       "    }\n",
       "\n",
       "    .dataframe thead th {\n",
       "        text-align: right;\n",
       "    }\n",
       "</style>\n",
       "<table border=\"1\" class=\"dataframe\">\n",
       "  <thead>\n",
       "    <tr style=\"text-align: right;\">\n",
       "      <th></th>\n",
       "      <th>survived</th>\n",
       "      <th>pclass</th>\n",
       "      <th>sex</th>\n",
       "      <th>age</th>\n",
       "      <th>sibsp</th>\n",
       "      <th>parch</th>\n",
       "      <th>fare</th>\n",
       "      <th>embarked</th>\n",
       "      <th>class</th>\n",
       "      <th>who</th>\n",
       "      <th>adult_male</th>\n",
       "      <th>deck</th>\n",
       "      <th>embark_town</th>\n",
       "      <th>alive</th>\n",
       "      <th>alone</th>\n",
       "    </tr>\n",
       "  </thead>\n",
       "  <tbody>\n",
       "    <tr>\n",
       "      <th>96</th>\n",
       "      <td>0</td>\n",
       "      <td>1</td>\n",
       "      <td>male</td>\n",
       "      <td>71.0</td>\n",
       "      <td>0</td>\n",
       "      <td>0</td>\n",
       "      <td>34.6542</td>\n",
       "      <td>C</td>\n",
       "      <td>First</td>\n",
       "      <td>man</td>\n",
       "      <td>True</td>\n",
       "      <td>A</td>\n",
       "      <td>Cherbourg</td>\n",
       "      <td>no</td>\n",
       "      <td>True</td>\n",
       "    </tr>\n",
       "    <tr>\n",
       "      <th>116</th>\n",
       "      <td>0</td>\n",
       "      <td>3</td>\n",
       "      <td>male</td>\n",
       "      <td>70.5</td>\n",
       "      <td>0</td>\n",
       "      <td>0</td>\n",
       "      <td>7.7500</td>\n",
       "      <td>Q</td>\n",
       "      <td>Third</td>\n",
       "      <td>man</td>\n",
       "      <td>True</td>\n",
       "      <td>NaN</td>\n",
       "      <td>Queenstown</td>\n",
       "      <td>no</td>\n",
       "      <td>True</td>\n",
       "    </tr>\n",
       "    <tr>\n",
       "      <th>258</th>\n",
       "      <td>1</td>\n",
       "      <td>1</td>\n",
       "      <td>female</td>\n",
       "      <td>35.0</td>\n",
       "      <td>0</td>\n",
       "      <td>0</td>\n",
       "      <td>512.3292</td>\n",
       "      <td>C</td>\n",
       "      <td>First</td>\n",
       "      <td>woman</td>\n",
       "      <td>False</td>\n",
       "      <td>NaN</td>\n",
       "      <td>Cherbourg</td>\n",
       "      <td>yes</td>\n",
       "      <td>True</td>\n",
       "    </tr>\n",
       "    <tr>\n",
       "      <th>493</th>\n",
       "      <td>0</td>\n",
       "      <td>1</td>\n",
       "      <td>male</td>\n",
       "      <td>71.0</td>\n",
       "      <td>0</td>\n",
       "      <td>0</td>\n",
       "      <td>49.5042</td>\n",
       "      <td>C</td>\n",
       "      <td>First</td>\n",
       "      <td>man</td>\n",
       "      <td>True</td>\n",
       "      <td>NaN</td>\n",
       "      <td>Cherbourg</td>\n",
       "      <td>no</td>\n",
       "      <td>True</td>\n",
       "    </tr>\n",
       "    <tr>\n",
       "      <th>630</th>\n",
       "      <td>1</td>\n",
       "      <td>1</td>\n",
       "      <td>male</td>\n",
       "      <td>80.0</td>\n",
       "      <td>0</td>\n",
       "      <td>0</td>\n",
       "      <td>30.0000</td>\n",
       "      <td>S</td>\n",
       "      <td>First</td>\n",
       "      <td>man</td>\n",
       "      <td>True</td>\n",
       "      <td>A</td>\n",
       "      <td>Southampton</td>\n",
       "      <td>yes</td>\n",
       "      <td>True</td>\n",
       "    </tr>\n",
       "  </tbody>\n",
       "</table>\n",
       "</div>"
      ],
      "text/plain": [
       "     survived  pclass     sex   age  sibsp  parch      fare embarked  class    who  adult_male deck  embark_town alive  alone\n",
       "96          0       1    male  71.0      0      0   34.6542        C  First    man        True    A    Cherbourg    no   True\n",
       "116         0       3    male  70.5      0      0    7.7500        Q  Third    man        True  NaN   Queenstown    no   True\n",
       "258         1       1  female  35.0      0      0  512.3292        C  First  woman       False  NaN    Cherbourg   yes   True\n",
       "493         0       1    male  71.0      0      0   49.5042        C  First    man        True  NaN    Cherbourg    no   True\n",
       "630         1       1    male  80.0      0      0   30.0000        S  First    man        True    A  Southampton   yes   True"
      ]
     },
     "execution_count": 11,
     "metadata": {},
     "output_type": "execute_result"
    }
   ],
   "source": [
    "#########################################\n",
    "# Görev 10: Fare'i 500'den büyük veya yaşı 70 den büyük yolcuların bilgilerini gösteriniz.\n",
    "# Task 10: Show records where the fare is greater than 500 or the age is greater than 70.\n",
    "#########################################\n",
    "\n",
    "df.loc[(df[\"fare\"]>500) | (df[\"age\"]>70)]\n",
    "\n",
    "fare_r=df[(df[\"fare\"]>500) | (df[\"age\"]>70)]\n",
    "fare_r.head()\n"
   ]
  },
  {
   "cell_type": "code",
   "execution_count": 12,
   "id": "3a862118",
   "metadata": {
    "execution": {
     "iopub.execute_input": "2024-09-11T14:06:42.999787Z",
     "iopub.status.busy": "2024-09-11T14:06:42.999455Z",
     "iopub.status.idle": "2024-09-11T14:06:43.007935Z",
     "shell.execute_reply": "2024-09-11T14:06:43.007111Z"
    },
    "papermill": {
     "duration": 0.021187,
     "end_time": "2024-09-11T14:06:43.009992",
     "exception": false,
     "start_time": "2024-09-11T14:06:42.988805",
     "status": "completed"
    },
    "tags": []
   },
   "outputs": [
    {
     "data": {
      "text/plain": [
       "survived         0\n",
       "pclass           0\n",
       "sex              0\n",
       "age            177\n",
       "sibsp            0\n",
       "parch            0\n",
       "fare             0\n",
       "embarked         2\n",
       "class            0\n",
       "who              0\n",
       "adult_male       0\n",
       "deck           688\n",
       "embark_town      2\n",
       "alive            0\n",
       "alone            0\n",
       "dtype: int64"
      ]
     },
     "execution_count": 12,
     "metadata": {},
     "output_type": "execute_result"
    }
   ],
   "source": [
    "#########################################\n",
    "# Görev 11: Her bir değişkendeki boş değerlerin toplamını bulunuz.\n",
    "# Task 11: Find the total number of missing values for each variable.\n",
    "#########################################\n",
    "\n",
    "df.isnull().sum()"
   ]
  },
  {
   "cell_type": "code",
   "execution_count": 13,
   "id": "ea54683e",
   "metadata": {
    "execution": {
     "iopub.execute_input": "2024-09-11T14:06:43.030729Z",
     "iopub.status.busy": "2024-09-11T14:06:43.030157Z",
     "iopub.status.idle": "2024-09-11T14:06:43.048265Z",
     "shell.execute_reply": "2024-09-11T14:06:43.047410Z"
    },
    "papermill": {
     "duration": 0.030854,
     "end_time": "2024-09-11T14:06:43.050211",
     "exception": false,
     "start_time": "2024-09-11T14:06:43.019357",
     "status": "completed"
    },
    "tags": []
   },
   "outputs": [
    {
     "data": {
      "text/html": [
       "<div>\n",
       "<style scoped>\n",
       "    .dataframe tbody tr th:only-of-type {\n",
       "        vertical-align: middle;\n",
       "    }\n",
       "\n",
       "    .dataframe tbody tr th {\n",
       "        vertical-align: top;\n",
       "    }\n",
       "\n",
       "    .dataframe thead th {\n",
       "        text-align: right;\n",
       "    }\n",
       "</style>\n",
       "<table border=\"1\" class=\"dataframe\">\n",
       "  <thead>\n",
       "    <tr style=\"text-align: right;\">\n",
       "      <th></th>\n",
       "      <th>survived</th>\n",
       "      <th>pclass</th>\n",
       "      <th>sex</th>\n",
       "      <th>age</th>\n",
       "      <th>sibsp</th>\n",
       "      <th>parch</th>\n",
       "      <th>fare</th>\n",
       "      <th>embarked</th>\n",
       "      <th>class</th>\n",
       "      <th>adult_male</th>\n",
       "      <th>deck</th>\n",
       "      <th>embark_town</th>\n",
       "      <th>alive</th>\n",
       "      <th>alone</th>\n",
       "    </tr>\n",
       "  </thead>\n",
       "  <tbody>\n",
       "    <tr>\n",
       "      <th>0</th>\n",
       "      <td>0</td>\n",
       "      <td>3</td>\n",
       "      <td>male</td>\n",
       "      <td>22.0</td>\n",
       "      <td>1</td>\n",
       "      <td>0</td>\n",
       "      <td>7.2500</td>\n",
       "      <td>S</td>\n",
       "      <td>Third</td>\n",
       "      <td>True</td>\n",
       "      <td>NaN</td>\n",
       "      <td>Southampton</td>\n",
       "      <td>no</td>\n",
       "      <td>False</td>\n",
       "    </tr>\n",
       "    <tr>\n",
       "      <th>1</th>\n",
       "      <td>1</td>\n",
       "      <td>1</td>\n",
       "      <td>female</td>\n",
       "      <td>38.0</td>\n",
       "      <td>1</td>\n",
       "      <td>0</td>\n",
       "      <td>71.2833</td>\n",
       "      <td>C</td>\n",
       "      <td>First</td>\n",
       "      <td>False</td>\n",
       "      <td>C</td>\n",
       "      <td>Cherbourg</td>\n",
       "      <td>yes</td>\n",
       "      <td>False</td>\n",
       "    </tr>\n",
       "    <tr>\n",
       "      <th>2</th>\n",
       "      <td>1</td>\n",
       "      <td>3</td>\n",
       "      <td>female</td>\n",
       "      <td>26.0</td>\n",
       "      <td>0</td>\n",
       "      <td>0</td>\n",
       "      <td>7.9250</td>\n",
       "      <td>S</td>\n",
       "      <td>Third</td>\n",
       "      <td>False</td>\n",
       "      <td>NaN</td>\n",
       "      <td>Southampton</td>\n",
       "      <td>yes</td>\n",
       "      <td>True</td>\n",
       "    </tr>\n",
       "    <tr>\n",
       "      <th>3</th>\n",
       "      <td>1</td>\n",
       "      <td>1</td>\n",
       "      <td>female</td>\n",
       "      <td>35.0</td>\n",
       "      <td>1</td>\n",
       "      <td>0</td>\n",
       "      <td>53.1000</td>\n",
       "      <td>S</td>\n",
       "      <td>First</td>\n",
       "      <td>False</td>\n",
       "      <td>C</td>\n",
       "      <td>Southampton</td>\n",
       "      <td>yes</td>\n",
       "      <td>False</td>\n",
       "    </tr>\n",
       "    <tr>\n",
       "      <th>4</th>\n",
       "      <td>0</td>\n",
       "      <td>3</td>\n",
       "      <td>male</td>\n",
       "      <td>35.0</td>\n",
       "      <td>0</td>\n",
       "      <td>0</td>\n",
       "      <td>8.0500</td>\n",
       "      <td>S</td>\n",
       "      <td>Third</td>\n",
       "      <td>True</td>\n",
       "      <td>NaN</td>\n",
       "      <td>Southampton</td>\n",
       "      <td>no</td>\n",
       "      <td>True</td>\n",
       "    </tr>\n",
       "  </tbody>\n",
       "</table>\n",
       "</div>"
      ],
      "text/plain": [
       "   survived  pclass     sex   age  sibsp  parch     fare embarked  class  adult_male deck  embark_town alive  alone\n",
       "0         0       3    male  22.0      1      0   7.2500        S  Third        True  NaN  Southampton    no  False\n",
       "1         1       1  female  38.0      1      0  71.2833        C  First       False    C    Cherbourg   yes  False\n",
       "2         1       3  female  26.0      0      0   7.9250        S  Third       False  NaN  Southampton   yes   True\n",
       "3         1       1  female  35.0      1      0  53.1000        S  First       False    C  Southampton   yes  False\n",
       "4         0       3    male  35.0      0      0   8.0500        S  Third        True  NaN  Southampton    no   True"
      ]
     },
     "execution_count": 13,
     "metadata": {},
     "output_type": "execute_result"
    }
   ],
   "source": [
    "#########################################\n",
    "# Görev 12: who değişkenini dataframe'den düşürün.\n",
    "# Task 12: Drop the who variable from the DataFrame.\n",
    "#########################################\n",
    "\n",
    "df.drop('who', axis=1).head()"
   ]
  },
  {
   "cell_type": "code",
   "execution_count": 14,
   "id": "9ce605c6",
   "metadata": {
    "execution": {
     "iopub.execute_input": "2024-09-11T14:06:43.070940Z",
     "iopub.status.busy": "2024-09-11T14:06:43.070255Z",
     "iopub.status.idle": "2024-09-11T14:06:43.078961Z",
     "shell.execute_reply": "2024-09-11T14:06:43.078098Z"
    },
    "papermill": {
     "duration": 0.021372,
     "end_time": "2024-09-11T14:06:43.081015",
     "exception": false,
     "start_time": "2024-09-11T14:06:43.059643",
     "status": "completed"
    },
    "tags": []
   },
   "outputs": [
    {
     "data": {
      "text/plain": [
       "0"
      ]
     },
     "execution_count": 14,
     "metadata": {},
     "output_type": "execute_result"
    }
   ],
   "source": [
    "#########################################\n",
    "# Görev 13: deck değikenindeki boş değerleri deck değişkenin en çok tekrar eden değeri (mode) ile doldurunuz.\n",
    "# Task 13: Fill the missing values in the deck variable with the most frequent value (mode) of the deck variable.\n",
    "#########################################\n",
    "\n",
    "df['deck'] = df['deck'].fillna(df['deck'].mode()[0])\n",
    "df['deck'].isnull().sum()"
   ]
  },
  {
   "cell_type": "code",
   "execution_count": 15,
   "id": "30cd812a",
   "metadata": {
    "execution": {
     "iopub.execute_input": "2024-09-11T14:06:43.102204Z",
     "iopub.status.busy": "2024-09-11T14:06:43.101858Z",
     "iopub.status.idle": "2024-09-11T14:06:43.111542Z",
     "shell.execute_reply": "2024-09-11T14:06:43.110442Z"
    },
    "papermill": {
     "duration": 0.023232,
     "end_time": "2024-09-11T14:06:43.113766",
     "exception": false,
     "start_time": "2024-09-11T14:06:43.090534",
     "status": "completed"
    },
    "tags": []
   },
   "outputs": [
    {
     "data": {
      "text/plain": [
       "0"
      ]
     },
     "execution_count": 15,
     "metadata": {},
     "output_type": "execute_result"
    }
   ],
   "source": [
    "#########################################\n",
    "# Görev 14: age değikenindeki boş değerleri age değişkenin medyanı ile doldurun.\n",
    "# Task 14: Fill the missing values in the age variable with the median value of the age variable.\n",
    "#########################################\n",
    "\n",
    "df['age'] = df['age'].fillna(df['age'].median())\n",
    "df['age'].isnull().sum()"
   ]
  },
  {
   "cell_type": "code",
   "execution_count": 16,
   "id": "54ceffb5",
   "metadata": {
    "execution": {
     "iopub.execute_input": "2024-09-11T14:06:43.134952Z",
     "iopub.status.busy": "2024-09-11T14:06:43.134645Z",
     "iopub.status.idle": "2024-09-11T14:06:43.155151Z",
     "shell.execute_reply": "2024-09-11T14:06:43.154288Z"
    },
    "papermill": {
     "duration": 0.03357,
     "end_time": "2024-09-11T14:06:43.157088",
     "exception": false,
     "start_time": "2024-09-11T14:06:43.123518",
     "status": "completed"
    },
    "tags": []
   },
   "outputs": [
    {
     "data": {
      "text/html": [
       "<div>\n",
       "<style scoped>\n",
       "    .dataframe tbody tr th:only-of-type {\n",
       "        vertical-align: middle;\n",
       "    }\n",
       "\n",
       "    .dataframe tbody tr th {\n",
       "        vertical-align: top;\n",
       "    }\n",
       "\n",
       "    .dataframe thead tr th {\n",
       "        text-align: left;\n",
       "    }\n",
       "\n",
       "    .dataframe thead tr:last-of-type th {\n",
       "        text-align: right;\n",
       "    }\n",
       "</style>\n",
       "<table border=\"1\" class=\"dataframe\">\n",
       "  <thead>\n",
       "    <tr>\n",
       "      <th></th>\n",
       "      <th></th>\n",
       "      <th colspan=\"3\" halign=\"left\">survived</th>\n",
       "    </tr>\n",
       "    <tr>\n",
       "      <th></th>\n",
       "      <th></th>\n",
       "      <th>sum</th>\n",
       "      <th>count</th>\n",
       "      <th>mean</th>\n",
       "    </tr>\n",
       "    <tr>\n",
       "      <th>pclass</th>\n",
       "      <th>sex</th>\n",
       "      <th></th>\n",
       "      <th></th>\n",
       "      <th></th>\n",
       "    </tr>\n",
       "  </thead>\n",
       "  <tbody>\n",
       "    <tr>\n",
       "      <th rowspan=\"2\" valign=\"top\">1</th>\n",
       "      <th>female</th>\n",
       "      <td>91</td>\n",
       "      <td>94</td>\n",
       "      <td>0.968085</td>\n",
       "    </tr>\n",
       "    <tr>\n",
       "      <th>male</th>\n",
       "      <td>45</td>\n",
       "      <td>122</td>\n",
       "      <td>0.368852</td>\n",
       "    </tr>\n",
       "    <tr>\n",
       "      <th rowspan=\"2\" valign=\"top\">2</th>\n",
       "      <th>female</th>\n",
       "      <td>70</td>\n",
       "      <td>76</td>\n",
       "      <td>0.921053</td>\n",
       "    </tr>\n",
       "    <tr>\n",
       "      <th>male</th>\n",
       "      <td>17</td>\n",
       "      <td>108</td>\n",
       "      <td>0.157407</td>\n",
       "    </tr>\n",
       "    <tr>\n",
       "      <th rowspan=\"2\" valign=\"top\">3</th>\n",
       "      <th>female</th>\n",
       "      <td>72</td>\n",
       "      <td>144</td>\n",
       "      <td>0.500000</td>\n",
       "    </tr>\n",
       "    <tr>\n",
       "      <th>male</th>\n",
       "      <td>47</td>\n",
       "      <td>347</td>\n",
       "      <td>0.135447</td>\n",
       "    </tr>\n",
       "  </tbody>\n",
       "</table>\n",
       "</div>"
      ],
      "text/plain": [
       "              survived                \n",
       "                   sum count      mean\n",
       "pclass sex                            \n",
       "1      female       91    94  0.968085\n",
       "       male         45   122  0.368852\n",
       "2      female       70    76  0.921053\n",
       "       male         17   108  0.157407\n",
       "3      female       72   144  0.500000\n",
       "       male         47   347  0.135447"
      ]
     },
     "execution_count": 16,
     "metadata": {},
     "output_type": "execute_result"
    }
   ],
   "source": [
    "#########################################\n",
    "# Görev 15: survived değişkeninin Pclass ve Cinsiyet değişkenleri kırılımınında sum, count, mean değerlerini bulunuz.\n",
    "# Task 15: Find the sum, count, and mean values of the survived variable by the pclass and sex variables.\n",
    "#########################################\n",
    "\n",
    "df.groupby([\"pclass\", \"sex\"]).agg({\"survived\": [\"sum\", \"count\", \"mean\"]})"
   ]
  },
  {
   "cell_type": "code",
   "execution_count": 17,
   "id": "8fae33a3",
   "metadata": {
    "execution": {
     "iopub.execute_input": "2024-09-11T14:06:43.177864Z",
     "iopub.status.busy": "2024-09-11T14:06:43.177573Z",
     "iopub.status.idle": "2024-09-11T14:06:43.187842Z",
     "shell.execute_reply": "2024-09-11T14:06:43.186897Z"
    },
    "papermill": {
     "duration": 0.022976,
     "end_time": "2024-09-11T14:06:43.189830",
     "exception": false,
     "start_time": "2024-09-11T14:06:43.166854",
     "status": "completed"
    },
    "tags": []
   },
   "outputs": [
    {
     "data": {
      "text/plain": [
       "0    1\n",
       "1    0\n",
       "2    1\n",
       "3    0\n",
       "4    0\n",
       "Name: age_flag, dtype: int64"
      ]
     },
     "execution_count": 17,
     "metadata": {},
     "output_type": "execute_result"
    }
   ],
   "source": [
    "#########################################\n",
    "# Görev 16:  30 yaşın altında olanlar 1, 30'a eşit ve üstünde olanlara 0 vericek bir fonksiyon yazınız.\n",
    "# Yazdığınız fonksiyonu kullanarak titanik veri setinde age_flag adında bir değişken oluşturunuz oluşturunuz. (apply ve lambda yapılarını kullanınız)\n",
    "\n",
    "#Task 16: Write a function that assigns 1 to passengers under 30 years old and 0 to those 30 years old and older.\n",
    "# Create a new variable called age_flag in the Titanic dataset using this function with apply and lambda.\n",
    "#########################################\n",
    "\n",
    "def age_funct(age):\n",
    "    return 1 if age < 30 else 0\n",
    "\n",
    "#######df['age_flag'] = df['age'].apply(age_funct).head()\n",
    "\n",
    "df['age_flag'] = df['age'].apply(lambda age: 1 if age < 30 else 0)\n",
    "\n",
    "df['age_flag'].head()"
   ]
  },
  {
   "cell_type": "code",
   "execution_count": 18,
   "id": "a543fe8c",
   "metadata": {
    "execution": {
     "iopub.execute_input": "2024-09-11T14:06:43.211277Z",
     "iopub.status.busy": "2024-09-11T14:06:43.210941Z",
     "iopub.status.idle": "2024-09-11T14:06:43.228582Z",
     "shell.execute_reply": "2024-09-11T14:06:43.227694Z"
    },
    "papermill": {
     "duration": 0.030524,
     "end_time": "2024-09-11T14:06:43.230488",
     "exception": false,
     "start_time": "2024-09-11T14:06:43.199964",
     "status": "completed"
    },
    "tags": []
   },
   "outputs": [
    {
     "data": {
      "text/html": [
       "<div>\n",
       "<style scoped>\n",
       "    .dataframe tbody tr th:only-of-type {\n",
       "        vertical-align: middle;\n",
       "    }\n",
       "\n",
       "    .dataframe tbody tr th {\n",
       "        vertical-align: top;\n",
       "    }\n",
       "\n",
       "    .dataframe thead th {\n",
       "        text-align: right;\n",
       "    }\n",
       "</style>\n",
       "<table border=\"1\" class=\"dataframe\">\n",
       "  <thead>\n",
       "    <tr style=\"text-align: right;\">\n",
       "      <th></th>\n",
       "      <th>total_bill</th>\n",
       "      <th>tip</th>\n",
       "      <th>sex</th>\n",
       "      <th>smoker</th>\n",
       "      <th>day</th>\n",
       "      <th>time</th>\n",
       "      <th>size</th>\n",
       "    </tr>\n",
       "  </thead>\n",
       "  <tbody>\n",
       "    <tr>\n",
       "      <th>0</th>\n",
       "      <td>16.99</td>\n",
       "      <td>1.01</td>\n",
       "      <td>Female</td>\n",
       "      <td>No</td>\n",
       "      <td>Sun</td>\n",
       "      <td>Dinner</td>\n",
       "      <td>2</td>\n",
       "    </tr>\n",
       "    <tr>\n",
       "      <th>1</th>\n",
       "      <td>10.34</td>\n",
       "      <td>1.66</td>\n",
       "      <td>Male</td>\n",
       "      <td>No</td>\n",
       "      <td>Sun</td>\n",
       "      <td>Dinner</td>\n",
       "      <td>3</td>\n",
       "    </tr>\n",
       "    <tr>\n",
       "      <th>2</th>\n",
       "      <td>21.01</td>\n",
       "      <td>3.50</td>\n",
       "      <td>Male</td>\n",
       "      <td>No</td>\n",
       "      <td>Sun</td>\n",
       "      <td>Dinner</td>\n",
       "      <td>3</td>\n",
       "    </tr>\n",
       "    <tr>\n",
       "      <th>3</th>\n",
       "      <td>23.68</td>\n",
       "      <td>3.31</td>\n",
       "      <td>Male</td>\n",
       "      <td>No</td>\n",
       "      <td>Sun</td>\n",
       "      <td>Dinner</td>\n",
       "      <td>2</td>\n",
       "    </tr>\n",
       "    <tr>\n",
       "      <th>4</th>\n",
       "      <td>24.59</td>\n",
       "      <td>3.61</td>\n",
       "      <td>Female</td>\n",
       "      <td>No</td>\n",
       "      <td>Sun</td>\n",
       "      <td>Dinner</td>\n",
       "      <td>4</td>\n",
       "    </tr>\n",
       "  </tbody>\n",
       "</table>\n",
       "</div>"
      ],
      "text/plain": [
       "   total_bill   tip     sex smoker  day    time  size\n",
       "0       16.99  1.01  Female     No  Sun  Dinner     2\n",
       "1       10.34  1.66    Male     No  Sun  Dinner     3\n",
       "2       21.01  3.50    Male     No  Sun  Dinner     3\n",
       "3       23.68  3.31    Male     No  Sun  Dinner     2\n",
       "4       24.59  3.61  Female     No  Sun  Dinner     4"
      ]
     },
     "execution_count": 18,
     "metadata": {},
     "output_type": "execute_result"
    }
   ],
   "source": [
    "#########################################\n",
    "# Görev 17: Seaborn kütüphanesi içerisinden Tips veri setini tanımlayınız.\n",
    "# Task 17: Load the Tips dataset from the Seaborn library.\n",
    "#########################################\n",
    "\n",
    "#df_1 = sns.load_dataset(\"tips\")\n",
    "df_1 = pd.read_csv(\"/kaggle/input/tips-dataset-sns/tips.csv\")\n",
    "df_1.head()"
   ]
  },
  {
   "cell_type": "code",
   "execution_count": 19,
   "id": "00b47b08",
   "metadata": {
    "execution": {
     "iopub.execute_input": "2024-09-11T14:06:43.252836Z",
     "iopub.status.busy": "2024-09-11T14:06:43.252509Z",
     "iopub.status.idle": "2024-09-11T14:06:43.273180Z",
     "shell.execute_reply": "2024-09-11T14:06:43.272153Z"
    },
    "papermill": {
     "duration": 0.034312,
     "end_time": "2024-09-11T14:06:43.275045",
     "exception": false,
     "start_time": "2024-09-11T14:06:43.240733",
     "status": "completed"
    },
    "tags": []
   },
   "outputs": [
    {
     "data": {
      "text/html": [
       "<div>\n",
       "<style scoped>\n",
       "    .dataframe tbody tr th:only-of-type {\n",
       "        vertical-align: middle;\n",
       "    }\n",
       "\n",
       "    .dataframe tbody tr th {\n",
       "        vertical-align: top;\n",
       "    }\n",
       "\n",
       "    .dataframe thead tr th {\n",
       "        text-align: left;\n",
       "    }\n",
       "\n",
       "    .dataframe thead tr:last-of-type th {\n",
       "        text-align: right;\n",
       "    }\n",
       "</style>\n",
       "<table border=\"1\" class=\"dataframe\">\n",
       "  <thead>\n",
       "    <tr>\n",
       "      <th></th>\n",
       "      <th colspan=\"4\" halign=\"left\">total_bill</th>\n",
       "    </tr>\n",
       "    <tr>\n",
       "      <th></th>\n",
       "      <th>sum</th>\n",
       "      <th>min</th>\n",
       "      <th>max</th>\n",
       "      <th>mean</th>\n",
       "    </tr>\n",
       "    <tr>\n",
       "      <th>time</th>\n",
       "      <th></th>\n",
       "      <th></th>\n",
       "      <th></th>\n",
       "      <th></th>\n",
       "    </tr>\n",
       "  </thead>\n",
       "  <tbody>\n",
       "    <tr>\n",
       "      <th>Dinner</th>\n",
       "      <td>3660.30</td>\n",
       "      <td>3.07</td>\n",
       "      <td>50.81</td>\n",
       "      <td>20.797159</td>\n",
       "    </tr>\n",
       "    <tr>\n",
       "      <th>Lunch</th>\n",
       "      <td>1167.47</td>\n",
       "      <td>7.51</td>\n",
       "      <td>43.11</td>\n",
       "      <td>17.168676</td>\n",
       "    </tr>\n",
       "  </tbody>\n",
       "</table>\n",
       "</div>"
      ],
      "text/plain": [
       "       total_bill                        \n",
       "              sum   min    max       mean\n",
       "time                                     \n",
       "Dinner    3660.30  3.07  50.81  20.797159\n",
       "Lunch     1167.47  7.51  43.11  17.168676"
      ]
     },
     "execution_count": 19,
     "metadata": {},
     "output_type": "execute_result"
    }
   ],
   "source": [
    "#########################################\n",
    "# Görev 18: Time değişkeninin kategorilerine (Dinner, Lunch) göre total_bill  değerlerinin toplamını, min, max ve ortalamasını bulunuz.\n",
    "# Task 18: For the categories of the time variable (Dinner, Lunch), find the total, min, max, and average values of the total_bill variable.\n",
    "#########################################\n",
    "\n",
    "df_1[\"time\"].value_counts()\n",
    "\n",
    "df_1.groupby(\"time\").agg({\"total_bill\": [\"sum\", \"min\", \"max\", \"mean\"]})"
   ]
  },
  {
   "cell_type": "code",
   "execution_count": 20,
   "id": "abac274f",
   "metadata": {
    "execution": {
     "iopub.execute_input": "2024-09-11T14:06:43.297089Z",
     "iopub.status.busy": "2024-09-11T14:06:43.296790Z",
     "iopub.status.idle": "2024-09-11T14:06:43.313969Z",
     "shell.execute_reply": "2024-09-11T14:06:43.313133Z"
    },
    "papermill": {
     "duration": 0.030614,
     "end_time": "2024-09-11T14:06:43.315934",
     "exception": false,
     "start_time": "2024-09-11T14:06:43.285320",
     "status": "completed"
    },
    "tags": []
   },
   "outputs": [
    {
     "data": {
      "text/html": [
       "<div>\n",
       "<style scoped>\n",
       "    .dataframe tbody tr th:only-of-type {\n",
       "        vertical-align: middle;\n",
       "    }\n",
       "\n",
       "    .dataframe tbody tr th {\n",
       "        vertical-align: top;\n",
       "    }\n",
       "\n",
       "    .dataframe thead tr th {\n",
       "        text-align: left;\n",
       "    }\n",
       "\n",
       "    .dataframe thead tr:last-of-type th {\n",
       "        text-align: right;\n",
       "    }\n",
       "</style>\n",
       "<table border=\"1\" class=\"dataframe\">\n",
       "  <thead>\n",
       "    <tr>\n",
       "      <th></th>\n",
       "      <th></th>\n",
       "      <th colspan=\"3\" halign=\"left\">total_bill</th>\n",
       "    </tr>\n",
       "    <tr>\n",
       "      <th></th>\n",
       "      <th></th>\n",
       "      <th>sum</th>\n",
       "      <th>min</th>\n",
       "      <th>max</th>\n",
       "    </tr>\n",
       "    <tr>\n",
       "      <th>time</th>\n",
       "      <th>day</th>\n",
       "      <th></th>\n",
       "      <th></th>\n",
       "      <th></th>\n",
       "    </tr>\n",
       "  </thead>\n",
       "  <tbody>\n",
       "    <tr>\n",
       "      <th rowspan=\"4\" valign=\"top\">Dinner</th>\n",
       "      <th>Fri</th>\n",
       "      <td>235.96</td>\n",
       "      <td>5.75</td>\n",
       "      <td>40.17</td>\n",
       "    </tr>\n",
       "    <tr>\n",
       "      <th>Sat</th>\n",
       "      <td>1778.40</td>\n",
       "      <td>3.07</td>\n",
       "      <td>50.81</td>\n",
       "    </tr>\n",
       "    <tr>\n",
       "      <th>Sun</th>\n",
       "      <td>1627.16</td>\n",
       "      <td>7.25</td>\n",
       "      <td>48.17</td>\n",
       "    </tr>\n",
       "    <tr>\n",
       "      <th>Thur</th>\n",
       "      <td>18.78</td>\n",
       "      <td>18.78</td>\n",
       "      <td>18.78</td>\n",
       "    </tr>\n",
       "    <tr>\n",
       "      <th rowspan=\"2\" valign=\"top\">Lunch</th>\n",
       "      <th>Fri</th>\n",
       "      <td>89.92</td>\n",
       "      <td>8.58</td>\n",
       "      <td>16.27</td>\n",
       "    </tr>\n",
       "    <tr>\n",
       "      <th>Thur</th>\n",
       "      <td>1077.55</td>\n",
       "      <td>7.51</td>\n",
       "      <td>43.11</td>\n",
       "    </tr>\n",
       "  </tbody>\n",
       "</table>\n",
       "</div>"
      ],
      "text/plain": [
       "            total_bill              \n",
       "                   sum    min    max\n",
       "time   day                          \n",
       "Dinner Fri      235.96   5.75  40.17\n",
       "       Sat     1778.40   3.07  50.81\n",
       "       Sun     1627.16   7.25  48.17\n",
       "       Thur      18.78  18.78  18.78\n",
       "Lunch  Fri       89.92   8.58  16.27\n",
       "       Thur    1077.55   7.51  43.11"
      ]
     },
     "execution_count": 20,
     "metadata": {},
     "output_type": "execute_result"
    }
   ],
   "source": [
    "#########################################\n",
    "# Görev 19: Günlere ve time göre total_bill değerlerinin toplamını, min, max ve ortalamasını bulunuz.\n",
    "# Task 19: For each day and time, find the total, min, max values of the total_bill variable.\n",
    "#########################################\n",
    "\n",
    "df_1.groupby([\"time\", \"day\"]).agg({\"total_bill\": [\"sum\", \"min\", \"max\"]})"
   ]
  },
  {
   "cell_type": "code",
   "execution_count": 21,
   "id": "0f2db8ee",
   "metadata": {
    "execution": {
     "iopub.execute_input": "2024-09-11T14:06:43.339543Z",
     "iopub.status.busy": "2024-09-11T14:06:43.339202Z",
     "iopub.status.idle": "2024-09-11T14:06:43.359585Z",
     "shell.execute_reply": "2024-09-11T14:06:43.358714Z"
    },
    "papermill": {
     "duration": 0.034763,
     "end_time": "2024-09-11T14:06:43.361748",
     "exception": false,
     "start_time": "2024-09-11T14:06:43.326985",
     "status": "completed"
    },
    "tags": []
   },
   "outputs": [
    {
     "data": {
      "text/html": [
       "<div>\n",
       "<style scoped>\n",
       "    .dataframe tbody tr th:only-of-type {\n",
       "        vertical-align: middle;\n",
       "    }\n",
       "\n",
       "    .dataframe tbody tr th {\n",
       "        vertical-align: top;\n",
       "    }\n",
       "\n",
       "    .dataframe thead th {\n",
       "        text-align: right;\n",
       "    }\n",
       "</style>\n",
       "<table border=\"1\" class=\"dataframe\">\n",
       "  <thead>\n",
       "    <tr style=\"text-align: right;\">\n",
       "      <th></th>\n",
       "      <th>total_bill</th>\n",
       "      <th>tip</th>\n",
       "      <th>sex</th>\n",
       "      <th>smoker</th>\n",
       "      <th>day</th>\n",
       "      <th>time</th>\n",
       "      <th>size</th>\n",
       "    </tr>\n",
       "  </thead>\n",
       "  <tbody>\n",
       "    <tr>\n",
       "      <th>82</th>\n",
       "      <td>10.07</td>\n",
       "      <td>1.83</td>\n",
       "      <td>Female</td>\n",
       "      <td>No</td>\n",
       "      <td>Thur</td>\n",
       "      <td>Lunch</td>\n",
       "      <td>1</td>\n",
       "    </tr>\n",
       "    <tr>\n",
       "      <th>85</th>\n",
       "      <td>34.83</td>\n",
       "      <td>5.17</td>\n",
       "      <td>Female</td>\n",
       "      <td>No</td>\n",
       "      <td>Thur</td>\n",
       "      <td>Lunch</td>\n",
       "      <td>4</td>\n",
       "    </tr>\n",
       "    <tr>\n",
       "      <th>117</th>\n",
       "      <td>10.65</td>\n",
       "      <td>1.50</td>\n",
       "      <td>Female</td>\n",
       "      <td>No</td>\n",
       "      <td>Thur</td>\n",
       "      <td>Lunch</td>\n",
       "      <td>2</td>\n",
       "    </tr>\n",
       "    <tr>\n",
       "      <th>118</th>\n",
       "      <td>12.43</td>\n",
       "      <td>1.80</td>\n",
       "      <td>Female</td>\n",
       "      <td>No</td>\n",
       "      <td>Thur</td>\n",
       "      <td>Lunch</td>\n",
       "      <td>2</td>\n",
       "    </tr>\n",
       "    <tr>\n",
       "      <th>119</th>\n",
       "      <td>24.08</td>\n",
       "      <td>2.92</td>\n",
       "      <td>Female</td>\n",
       "      <td>No</td>\n",
       "      <td>Thur</td>\n",
       "      <td>Lunch</td>\n",
       "      <td>4</td>\n",
       "    </tr>\n",
       "  </tbody>\n",
       "</table>\n",
       "</div>"
      ],
      "text/plain": [
       "     total_bill   tip     sex smoker   day   time  size\n",
       "82        10.07  1.83  Female     No  Thur  Lunch     1\n",
       "85        34.83  5.17  Female     No  Thur  Lunch     4\n",
       "117       10.65  1.50  Female     No  Thur  Lunch     2\n",
       "118       12.43  1.80  Female     No  Thur  Lunch     2\n",
       "119       24.08  2.92  Female     No  Thur  Lunch     4"
      ]
     },
     "execution_count": 21,
     "metadata": {},
     "output_type": "execute_result"
    }
   ],
   "source": [
    "#########################################\n",
    "# Görev 20:Lunch zamanına ve kadın müşterilere ait total_bill ve tip  değerlerinin day'e göre toplamını, min, max ve ortalamasını bulunuz.\n",
    "# Task 20: For Lunch time and female customers, find the total, min, max, and average values of total_bill and tip by day.\n",
    "#########################################\n",
    "\n",
    "\n",
    "female_lunch = df_1.loc[(df_1[\"time\"]==\"Lunch\") & (df_1[\"sex\"]==\"Female\")]\n",
    "female_lunch_agg = female_lunch.groupby(\"day\").agg({\"total_bill\": [\"sum\", \"min\", \"max\", \"mean\"],\n",
    "                                 \"tip\": [\"sum\", \"min\", \"max\", \"mean\"]})\n",
    "\n",
    "female_lunch.head()"
   ]
  },
  {
   "cell_type": "code",
   "execution_count": 22,
   "id": "c3e81aef",
   "metadata": {
    "execution": {
     "iopub.execute_input": "2024-09-11T14:06:43.386073Z",
     "iopub.status.busy": "2024-09-11T14:06:43.385728Z",
     "iopub.status.idle": "2024-09-11T14:06:43.393674Z",
     "shell.execute_reply": "2024-09-11T14:06:43.392645Z"
    },
    "papermill": {
     "duration": 0.022427,
     "end_time": "2024-09-11T14:06:43.395614",
     "exception": false,
     "start_time": "2024-09-11T14:06:43.373187",
     "status": "completed"
    },
    "tags": []
   },
   "outputs": [
    {
     "data": {
      "text/plain": [
       "17.184965034965035"
      ]
     },
     "execution_count": 22,
     "metadata": {},
     "output_type": "execute_result"
    }
   ],
   "source": [
    "#########################################\n",
    "# Görev 21: size'i 3'ten küçük, total_bill'i 10'dan büyük olan siparişlerin ortalaması nedir?\n",
    "# Task 21: What is the average of orders where the size is less than 3 and total_bill is greater than 10?\n",
    "#########################################\n",
    "\n",
    "df_1.loc[(df_1[\"size\"] < 3) & (df_1[\"total_bill\"] >10 ) , \"total_bill\"].mean()"
   ]
  },
  {
   "cell_type": "code",
   "execution_count": 23,
   "id": "f0c9dda7",
   "metadata": {
    "execution": {
     "iopub.execute_input": "2024-09-11T14:06:43.419251Z",
     "iopub.status.busy": "2024-09-11T14:06:43.418937Z",
     "iopub.status.idle": "2024-09-11T14:06:43.431182Z",
     "shell.execute_reply": "2024-09-11T14:06:43.430306Z"
    },
    "papermill": {
     "duration": 0.026926,
     "end_time": "2024-09-11T14:06:43.433511",
     "exception": false,
     "start_time": "2024-09-11T14:06:43.406585",
     "status": "completed"
    },
    "tags": []
   },
   "outputs": [
    {
     "data": {
      "text/html": [
       "<div>\n",
       "<style scoped>\n",
       "    .dataframe tbody tr th:only-of-type {\n",
       "        vertical-align: middle;\n",
       "    }\n",
       "\n",
       "    .dataframe tbody tr th {\n",
       "        vertical-align: top;\n",
       "    }\n",
       "\n",
       "    .dataframe thead th {\n",
       "        text-align: right;\n",
       "    }\n",
       "</style>\n",
       "<table border=\"1\" class=\"dataframe\">\n",
       "  <thead>\n",
       "    <tr style=\"text-align: right;\">\n",
       "      <th></th>\n",
       "      <th>total_bill_tip_sum</th>\n",
       "      <th>total_bill</th>\n",
       "      <th>tip</th>\n",
       "    </tr>\n",
       "  </thead>\n",
       "  <tbody>\n",
       "    <tr>\n",
       "      <th>0</th>\n",
       "      <td>18.00</td>\n",
       "      <td>16.99</td>\n",
       "      <td>1.01</td>\n",
       "    </tr>\n",
       "    <tr>\n",
       "      <th>1</th>\n",
       "      <td>12.00</td>\n",
       "      <td>10.34</td>\n",
       "      <td>1.66</td>\n",
       "    </tr>\n",
       "    <tr>\n",
       "      <th>2</th>\n",
       "      <td>24.51</td>\n",
       "      <td>21.01</td>\n",
       "      <td>3.50</td>\n",
       "    </tr>\n",
       "    <tr>\n",
       "      <th>3</th>\n",
       "      <td>26.99</td>\n",
       "      <td>23.68</td>\n",
       "      <td>3.31</td>\n",
       "    </tr>\n",
       "    <tr>\n",
       "      <th>4</th>\n",
       "      <td>28.20</td>\n",
       "      <td>24.59</td>\n",
       "      <td>3.61</td>\n",
       "    </tr>\n",
       "  </tbody>\n",
       "</table>\n",
       "</div>"
      ],
      "text/plain": [
       "   total_bill_tip_sum  total_bill   tip\n",
       "0               18.00       16.99  1.01\n",
       "1               12.00       10.34  1.66\n",
       "2               24.51       21.01  3.50\n",
       "3               26.99       23.68  3.31\n",
       "4               28.20       24.59  3.61"
      ]
     },
     "execution_count": 23,
     "metadata": {},
     "output_type": "execute_result"
    }
   ],
   "source": [
    "#########################################\n",
    "# Görev 22: total_bill_tip_sum adında yeni bir değişken oluşturun. Her bir müşterinin ödediği totalbill ve tip in toplamını versin.\n",
    "# ask 22: Create a new variable called total_bill_tip_sum which is the sum of total_bill and tip for each customer.\n",
    "#########################################\n",
    "\n",
    "\n",
    "df_1[\"total_bill_tip_sum\"] = df_1[\"total_bill\"] + df_1[\"tip\"]\n",
    "df_1[[\"total_bill_tip_sum\", \"total_bill\", \"tip\"]].head()"
   ]
  },
  {
   "cell_type": "code",
   "execution_count": 24,
   "id": "d3cf475d",
   "metadata": {
    "execution": {
     "iopub.execute_input": "2024-09-11T14:06:43.457843Z",
     "iopub.status.busy": "2024-09-11T14:06:43.457541Z",
     "iopub.status.idle": "2024-09-11T14:06:43.469279Z",
     "shell.execute_reply": "2024-09-11T14:06:43.468440Z"
    },
    "papermill": {
     "duration": 0.026552,
     "end_time": "2024-09-11T14:06:43.471447",
     "exception": false,
     "start_time": "2024-09-11T14:06:43.444895",
     "status": "completed"
    },
    "tags": []
   },
   "outputs": [
    {
     "name": "stdout",
     "output_type": "stream",
     "text": [
      "     total_bill    tip     sex smoker   day    time  size  total_bill_tip_sum\n",
      "170       50.81  10.00    Male    Yes   Sat  Dinner     3               60.81\n",
      "212       48.33   9.00    Male     No   Sat  Dinner     4               57.33\n",
      "59        48.27   6.73    Male     No   Sat  Dinner     4               55.00\n",
      "156       48.17   5.00    Male     No   Sun  Dinner     6               53.17\n",
      "182       45.35   3.50    Male    Yes   Sun  Dinner     3               48.85\n",
      "197       43.11   5.00  Female    Yes  Thur   Lunch     4               48.11\n",
      "23        39.42   7.58    Male     No   Sat  Dinner     4               47.00\n",
      "102       44.30   2.50  Female    Yes   Sat  Dinner     3               46.80\n",
      "142       41.19   5.00    Male     No  Thur   Lunch     5               46.19\n",
      "95        40.17   4.73    Male    Yes   Fri  Dinner     4               44.90\n",
      "184       40.55   3.00    Male    Yes   Sun  Dinner     2               43.55\n",
      "112       38.07   4.00    Male     No   Sun  Dinner     3               42.07\n",
      "207       38.73   3.00    Male    Yes   Sat  Dinner     4               41.73\n",
      "56        38.01   3.00    Male    Yes   Sat  Dinner     4               41.01\n",
      "141       34.30   6.70    Male     No  Thur   Lunch     6               41.00\n",
      "238       35.83   4.67  Female     No   Sat  Dinner     3               40.50\n",
      "11        35.26   5.00  Female     No   Sun  Dinner     4               40.26\n",
      "52        34.81   5.20  Female     No   Sun  Dinner     4               40.01\n",
      "85        34.83   5.17  Female     No  Thur   Lunch     4               40.00\n",
      "47        32.40   6.00    Male     No   Sun  Dinner     4               38.40\n"
     ]
    }
   ],
   "source": [
    "#########################################\n",
    "# Görev 23: total_bill_tip_sum değişkenine göre büyükten küçüğe sıralayınız ve ilk 30 kişiyi yeni bir dataframe'e atayınız.\n",
    "# Task 23: Sort by the total_bill_tip_sum variable in descending order and assign the top 30 entries to a new DataFrame.\n",
    "#########################################\n",
    "\n",
    "\n",
    "\n",
    "df_2 = df_1.sort_values(by='total_bill_tip_sum', ascending=False)[:20]\n",
    "print(df_2)"
   ]
  }
 ],
 "metadata": {
  "kaggle": {
   "accelerator": "none",
   "dataSources": [
    {
     "datasetId": 5680736,
     "sourceId": 9367488,
     "sourceType": "datasetVersion"
    },
    {
     "datasetId": 5680826,
     "sourceId": 9367602,
     "sourceType": "datasetVersion"
    }
   ],
   "dockerImageVersionId": 30761,
   "isGpuEnabled": false,
   "isInternetEnabled": false,
   "language": "python",
   "sourceType": "notebook"
  },
  "kernelspec": {
   "display_name": "Python 3",
   "language": "python",
   "name": "python3"
  },
  "language_info": {
   "codemirror_mode": {
    "name": "ipython",
    "version": 3
   },
   "file_extension": ".py",
   "mimetype": "text/x-python",
   "name": "python",
   "nbconvert_exporter": "python",
   "pygments_lexer": "ipython3",
   "version": "3.10.14"
  },
  "papermill": {
   "default_parameters": {},
   "duration": 5.690076,
   "end_time": "2024-09-11T14:06:43.901747",
   "environment_variables": {},
   "exception": null,
   "input_path": "__notebook__.ipynb",
   "output_path": "__notebook__.ipynb",
   "parameters": {},
   "start_time": "2024-09-11T14:06:38.211671",
   "version": "2.6.0"
  }
 },
 "nbformat": 4,
 "nbformat_minor": 5
}
