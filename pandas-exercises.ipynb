{
 "cells": [
  {
   "cell_type": "code",
   "execution_count": 1,
   "id": "87740b1d",
   "metadata": {
    "execution": {
     "iopub.execute_input": "2024-09-11T14:01:30.719954Z",
     "iopub.status.busy": "2024-09-11T14:01:30.719540Z",
     "iopub.status.idle": "2024-09-11T14:01:33.042765Z",
     "shell.execute_reply": "2024-09-11T14:01:33.041804Z"
    },
    "papermill": {
     "duration": 2.333985,
     "end_time": "2024-09-11T14:01:33.045307",
     "exception": false,
     "start_time": "2024-09-11T14:01:30.711322",
     "status": "completed"
    },
    "tags": []
   },
   "outputs": [],
   "source": [
    "import numpy as np\n",
    "import seaborn as sns\n",
    "import pandas as pd\n",
    "pd.set_option('display.max_rows', None)\n",
    "pd.set_option('display.max_columns', None)\n",
    "pd.set_option('display.width', 1000)"
   ]
  },
  {
   "cell_type": "code",
   "execution_count": 2,
   "id": "323dafa1",
   "metadata": {
    "execution": {
     "iopub.execute_input": "2024-09-11T14:01:33.059532Z",
     "iopub.status.busy": "2024-09-11T14:01:33.058998Z",
     "iopub.status.idle": "2024-09-11T14:01:33.106139Z",
     "shell.execute_reply": "2024-09-11T14:01:33.105079Z"
    },
    "papermill": {
     "duration": 0.056827,
     "end_time": "2024-09-11T14:01:33.108603",
     "exception": false,
     "start_time": "2024-09-11T14:01:33.051776",
     "status": "completed"
    },
    "tags": []
   },
   "outputs": [
    {
     "data": {
      "text/html": [
       "<div>\n",
       "<style scoped>\n",
       "    .dataframe tbody tr th:only-of-type {\n",
       "        vertical-align: middle;\n",
       "    }\n",
       "\n",
       "    .dataframe tbody tr th {\n",
       "        vertical-align: top;\n",
       "    }\n",
       "\n",
       "    .dataframe thead th {\n",
       "        text-align: right;\n",
       "    }\n",
       "</style>\n",
       "<table border=\"1\" class=\"dataframe\">\n",
       "  <thead>\n",
       "    <tr style=\"text-align: right;\">\n",
       "      <th></th>\n",
       "      <th>survived</th>\n",
       "      <th>pclass</th>\n",
       "      <th>sex</th>\n",
       "      <th>age</th>\n",
       "      <th>sibsp</th>\n",
       "      <th>parch</th>\n",
       "      <th>fare</th>\n",
       "      <th>embarked</th>\n",
       "      <th>class</th>\n",
       "      <th>who</th>\n",
       "      <th>adult_male</th>\n",
       "      <th>deck</th>\n",
       "      <th>embark_town</th>\n",
       "      <th>alive</th>\n",
       "      <th>alone</th>\n",
       "    </tr>\n",
       "  </thead>\n",
       "  <tbody>\n",
       "    <tr>\n",
       "      <th>0</th>\n",
       "      <td>0</td>\n",
       "      <td>3</td>\n",
       "      <td>male</td>\n",
       "      <td>22.0</td>\n",
       "      <td>1</td>\n",
       "      <td>0</td>\n",
       "      <td>7.2500</td>\n",
       "      <td>S</td>\n",
       "      <td>Third</td>\n",
       "      <td>man</td>\n",
       "      <td>True</td>\n",
       "      <td>NaN</td>\n",
       "      <td>Southampton</td>\n",
       "      <td>no</td>\n",
       "      <td>False</td>\n",
       "    </tr>\n",
       "    <tr>\n",
       "      <th>1</th>\n",
       "      <td>1</td>\n",
       "      <td>1</td>\n",
       "      <td>female</td>\n",
       "      <td>38.0</td>\n",
       "      <td>1</td>\n",
       "      <td>0</td>\n",
       "      <td>71.2833</td>\n",
       "      <td>C</td>\n",
       "      <td>First</td>\n",
       "      <td>woman</td>\n",
       "      <td>False</td>\n",
       "      <td>C</td>\n",
       "      <td>Cherbourg</td>\n",
       "      <td>yes</td>\n",
       "      <td>False</td>\n",
       "    </tr>\n",
       "    <tr>\n",
       "      <th>2</th>\n",
       "      <td>1</td>\n",
       "      <td>3</td>\n",
       "      <td>female</td>\n",
       "      <td>26.0</td>\n",
       "      <td>0</td>\n",
       "      <td>0</td>\n",
       "      <td>7.9250</td>\n",
       "      <td>S</td>\n",
       "      <td>Third</td>\n",
       "      <td>woman</td>\n",
       "      <td>False</td>\n",
       "      <td>NaN</td>\n",
       "      <td>Southampton</td>\n",
       "      <td>yes</td>\n",
       "      <td>True</td>\n",
       "    </tr>\n",
       "    <tr>\n",
       "      <th>3</th>\n",
       "      <td>1</td>\n",
       "      <td>1</td>\n",
       "      <td>female</td>\n",
       "      <td>35.0</td>\n",
       "      <td>1</td>\n",
       "      <td>0</td>\n",
       "      <td>53.1000</td>\n",
       "      <td>S</td>\n",
       "      <td>First</td>\n",
       "      <td>woman</td>\n",
       "      <td>False</td>\n",
       "      <td>C</td>\n",
       "      <td>Southampton</td>\n",
       "      <td>yes</td>\n",
       "      <td>False</td>\n",
       "    </tr>\n",
       "    <tr>\n",
       "      <th>4</th>\n",
       "      <td>0</td>\n",
       "      <td>3</td>\n",
       "      <td>male</td>\n",
       "      <td>35.0</td>\n",
       "      <td>0</td>\n",
       "      <td>0</td>\n",
       "      <td>8.0500</td>\n",
       "      <td>S</td>\n",
       "      <td>Third</td>\n",
       "      <td>man</td>\n",
       "      <td>True</td>\n",
       "      <td>NaN</td>\n",
       "      <td>Southampton</td>\n",
       "      <td>no</td>\n",
       "      <td>True</td>\n",
       "    </tr>\n",
       "  </tbody>\n",
       "</table>\n",
       "</div>"
      ],
      "text/plain": [
       "   survived  pclass     sex   age  sibsp  parch     fare embarked  class    who  adult_male deck  embark_town alive  alone\n",
       "0         0       3    male  22.0      1      0   7.2500        S  Third    man        True  NaN  Southampton    no  False\n",
       "1         1       1  female  38.0      1      0  71.2833        C  First  woman       False    C    Cherbourg   yes  False\n",
       "2         1       3  female  26.0      0      0   7.9250        S  Third  woman       False  NaN  Southampton   yes   True\n",
       "3         1       1  female  35.0      1      0  53.1000        S  First  woman       False    C  Southampton   yes  False\n",
       "4         0       3    male  35.0      0      0   8.0500        S  Third    man        True  NaN  Southampton    no   True"
      ]
     },
     "execution_count": 2,
     "metadata": {},
     "output_type": "execute_result"
    }
   ],
   "source": [
    "#########################################\n",
    "# Görev 1: Seaborn kütüphanesi içerisinden Titanic veri setini tanımlayınız.\n",
    "# Task 1: Load the Titanic dataset from the Seaborn library.\n",
    "#########################################\n",
    "\n",
    "#df = sns.load_dataset(\"titanic\")\n",
    "df = pd.read_csv(\"/kaggle/input/titanic-dataset-csv/titanic.csv\")\n",
    "df.head()"
   ]
  },
  {
   "cell_type": "code",
   "execution_count": 3,
   "id": "66839260",
   "metadata": {
    "execution": {
     "iopub.execute_input": "2024-09-11T14:01:33.123017Z",
     "iopub.status.busy": "2024-09-11T14:01:33.122619Z",
     "iopub.status.idle": "2024-09-11T14:01:33.136217Z",
     "shell.execute_reply": "2024-09-11T14:01:33.135050Z"
    },
    "papermill": {
     "duration": 0.023547,
     "end_time": "2024-09-11T14:01:33.138534",
     "exception": false,
     "start_time": "2024-09-11T14:01:33.114987",
     "status": "completed"
    },
    "tags": []
   },
   "outputs": [
    {
     "data": {
      "text/plain": [
       "sex\n",
       "male      577\n",
       "female    314\n",
       "Name: count, dtype: int64"
      ]
     },
     "execution_count": 3,
     "metadata": {},
     "output_type": "execute_result"
    }
   ],
   "source": [
    "#########################################\n",
    "# Görev 2: Yukarıda tanımlanan Titanic veri setindeki kadın ve erkek yolcuların sayısını bulunuz.\n",
    "# Task 2: Find the number of male and female passengers in the Titanic dataset defined above.\n",
    "#########################################\n",
    "\n",
    "df[\"sex\"].value_counts()"
   ]
  },
  {
   "cell_type": "code",
   "execution_count": 4,
   "id": "bf667572",
   "metadata": {
    "execution": {
     "iopub.execute_input": "2024-09-11T14:01:33.153488Z",
     "iopub.status.busy": "2024-09-11T14:01:33.152992Z",
     "iopub.status.idle": "2024-09-11T14:01:33.166702Z",
     "shell.execute_reply": "2024-09-11T14:01:33.165535Z"
    },
    "papermill": {
     "duration": 0.023932,
     "end_time": "2024-09-11T14:01:33.169023",
     "exception": false,
     "start_time": "2024-09-11T14:01:33.145091",
     "status": "completed"
    },
    "tags": []
   },
   "outputs": [
    {
     "data": {
      "text/plain": [
       "survived         2\n",
       "pclass           3\n",
       "sex              2\n",
       "age             88\n",
       "sibsp            7\n",
       "parch            7\n",
       "fare           248\n",
       "embarked         3\n",
       "class            3\n",
       "who              3\n",
       "adult_male       2\n",
       "deck             7\n",
       "embark_town      3\n",
       "alive            2\n",
       "alone            2\n",
       "dtype: int64"
      ]
     },
     "execution_count": 4,
     "metadata": {},
     "output_type": "execute_result"
    }
   ],
   "source": [
    "#########################################\n",
    "# Görev 3: Her bir sutuna ait unique değerlerin sayısını bulunuz.\n",
    "# Task 3: Find the number of unique values for each column.\n",
    "#########################################\n",
    "\n",
    "df.nunique()"
   ]
  },
  {
   "cell_type": "code",
   "execution_count": 5,
   "id": "41bfe9cc",
   "metadata": {
    "execution": {
     "iopub.execute_input": "2024-09-11T14:01:33.184203Z",
     "iopub.status.busy": "2024-09-11T14:01:33.183781Z",
     "iopub.status.idle": "2024-09-11T14:01:33.192420Z",
     "shell.execute_reply": "2024-09-11T14:01:33.191391Z"
    },
    "papermill": {
     "duration": 0.018887,
     "end_time": "2024-09-11T14:01:33.194613",
     "exception": false,
     "start_time": "2024-09-11T14:01:33.175726",
     "status": "completed"
    },
    "tags": []
   },
   "outputs": [
    {
     "data": {
      "text/plain": [
       "array([3, 1, 2])"
      ]
     },
     "execution_count": 5,
     "metadata": {},
     "output_type": "execute_result"
    }
   ],
   "source": [
    "#########################################\n",
    "# Görev 4: pclass değişkeninin unique değerleri bulunuz.\n",
    "# Task 4: Find the unique values of the pclass variable.\n",
    "#########################################\n",
    "\n",
    "df[\"pclass\"].unique()"
   ]
  },
  {
   "cell_type": "code",
   "execution_count": 6,
   "id": "e3f91147",
   "metadata": {
    "execution": {
     "iopub.execute_input": "2024-09-11T14:01:33.209989Z",
     "iopub.status.busy": "2024-09-11T14:01:33.209213Z",
     "iopub.status.idle": "2024-09-11T14:01:33.222601Z",
     "shell.execute_reply": "2024-09-11T14:01:33.221626Z"
    },
    "papermill": {
     "duration": 0.023326,
     "end_time": "2024-09-11T14:01:33.224704",
     "exception": false,
     "start_time": "2024-09-11T14:01:33.201378",
     "status": "completed"
    },
    "tags": []
   },
   "outputs": [
    {
     "data": {
      "text/plain": [
       "pclass    3\n",
       "parch     7\n",
       "dtype: int64"
      ]
     },
     "execution_count": 6,
     "metadata": {},
     "output_type": "execute_result"
    }
   ],
   "source": [
    "#########################################\n",
    "# Görev 5:  pclass ve parch değişkenlerinin unique değerlerinin sayısını bulunuz.\n",
    "# Task 5: Find the number of unique values for the pclass and parch variables.\n",
    "#########################################\n",
    "\n",
    "df[[\"pclass\", \"parch\"]].nunique()"
   ]
  },
  {
   "cell_type": "code",
   "execution_count": 7,
   "id": "3efd042e",
   "metadata": {
    "execution": {
     "iopub.execute_input": "2024-09-11T14:01:33.240393Z",
     "iopub.status.busy": "2024-09-11T14:01:33.239463Z",
     "iopub.status.idle": "2024-09-11T14:01:33.247970Z",
     "shell.execute_reply": "2024-09-11T14:01:33.246814Z"
    },
    "papermill": {
     "duration": 0.018669,
     "end_time": "2024-09-11T14:01:33.250259",
     "exception": false,
     "start_time": "2024-09-11T14:01:33.231590",
     "status": "completed"
    },
    "tags": []
   },
   "outputs": [
    {
     "name": "stdout",
     "output_type": "stream",
     "text": [
      "category\n"
     ]
    }
   ],
   "source": [
    "#########################################\n",
    "# Görev 6: embarked değişkeninin tipini kontrol ediniz. Tipini category olarak değiştiriniz. Tekrar tipini kontrol ediniz.\n",
    "# Task 6: Check the type of the embarked variable. Change its type to category. Check its type again.\n",
    "#########################################\n",
    "\n",
    "df[\"embarked\"].dtypes\n",
    "\n",
    "df[\"embarked\"] = df[\"embarked\"].astype(\"category\")\n",
    "\n",
    "df[\"embarked\"].dtypes\n",
    "\n",
    "print(df[\"embarked\"].astype(\"category\").dtypes)"
   ]
  },
  {
   "cell_type": "code",
   "execution_count": 8,
   "id": "c26db15c",
   "metadata": {
    "execution": {
     "iopub.execute_input": "2024-09-11T14:01:33.266175Z",
     "iopub.status.busy": "2024-09-11T14:01:33.265147Z",
     "iopub.status.idle": "2024-09-11T14:01:33.282945Z",
     "shell.execute_reply": "2024-09-11T14:01:33.281632Z"
    },
    "papermill": {
     "duration": 0.02831,
     "end_time": "2024-09-11T14:01:33.285440",
     "exception": false,
     "start_time": "2024-09-11T14:01:33.257130",
     "status": "completed"
    },
    "tags": []
   },
   "outputs": [
    {
     "name": "stdout",
     "output_type": "stream",
     "text": [
      "    survived  pclass     sex   age  sibsp  parch     fare embarked   class    who  adult_male deck embark_town alive  alone\n",
      "1          1       1  female  38.0      1      0  71.2833        C   First  woman       False    C   Cherbourg   yes  False\n",
      "9          1       2  female  14.0      1      0  30.0708        C  Second  child       False  NaN   Cherbourg   yes  False\n",
      "19         1       3  female   NaN      0      0   7.2250        C   Third  woman       False  NaN   Cherbourg   yes   True\n",
      "26         0       3    male   NaN      0      0   7.2250        C   Third    man        True  NaN   Cherbourg    no   True\n",
      "30         0       1    male  40.0      0      0  27.7208        C   First    man        True  NaN   Cherbourg    no   True\n"
     ]
    }
   ],
   "source": [
    "#########################################\n",
    "# Görev 7: embarked değeri C olanların tüm bilgelerini gösteriniz.\n",
    "# Task 7: Show all records where the embarked value is 'C'.\n",
    "#########################################\n",
    "\n",
    "\n",
    "df.loc[(df[\"embarked\"] == \"C\")]\n",
    "\n",
    "embarked_c = df[df['embarked'] == \"C\"].head()\n",
    "print(embarked_c)"
   ]
  },
  {
   "cell_type": "code",
   "execution_count": 9,
   "id": "dc9e8f41",
   "metadata": {
    "execution": {
     "iopub.execute_input": "2024-09-11T14:01:33.303065Z",
     "iopub.status.busy": "2024-09-11T14:01:33.302075Z",
     "iopub.status.idle": "2024-09-11T14:01:33.322077Z",
     "shell.execute_reply": "2024-09-11T14:01:33.320762Z"
    },
    "papermill": {
     "duration": 0.03146,
     "end_time": "2024-09-11T14:01:33.324249",
     "exception": false,
     "start_time": "2024-09-11T14:01:33.292789",
     "status": "completed"
    },
    "tags": []
   },
   "outputs": [
    {
     "data": {
      "text/html": [
       "<div>\n",
       "<style scoped>\n",
       "    .dataframe tbody tr th:only-of-type {\n",
       "        vertical-align: middle;\n",
       "    }\n",
       "\n",
       "    .dataframe tbody tr th {\n",
       "        vertical-align: top;\n",
       "    }\n",
       "\n",
       "    .dataframe thead th {\n",
       "        text-align: right;\n",
       "    }\n",
       "</style>\n",
       "<table border=\"1\" class=\"dataframe\">\n",
       "  <thead>\n",
       "    <tr style=\"text-align: right;\">\n",
       "      <th></th>\n",
       "      <th>survived</th>\n",
       "      <th>pclass</th>\n",
       "      <th>sex</th>\n",
       "      <th>age</th>\n",
       "      <th>sibsp</th>\n",
       "      <th>parch</th>\n",
       "      <th>fare</th>\n",
       "      <th>embarked</th>\n",
       "      <th>class</th>\n",
       "      <th>who</th>\n",
       "      <th>adult_male</th>\n",
       "      <th>deck</th>\n",
       "      <th>embark_town</th>\n",
       "      <th>alive</th>\n",
       "      <th>alone</th>\n",
       "    </tr>\n",
       "  </thead>\n",
       "  <tbody>\n",
       "    <tr>\n",
       "      <th>1</th>\n",
       "      <td>1</td>\n",
       "      <td>1</td>\n",
       "      <td>female</td>\n",
       "      <td>38.0</td>\n",
       "      <td>1</td>\n",
       "      <td>0</td>\n",
       "      <td>71.2833</td>\n",
       "      <td>C</td>\n",
       "      <td>First</td>\n",
       "      <td>woman</td>\n",
       "      <td>False</td>\n",
       "      <td>C</td>\n",
       "      <td>Cherbourg</td>\n",
       "      <td>yes</td>\n",
       "      <td>False</td>\n",
       "    </tr>\n",
       "    <tr>\n",
       "      <th>5</th>\n",
       "      <td>0</td>\n",
       "      <td>3</td>\n",
       "      <td>male</td>\n",
       "      <td>NaN</td>\n",
       "      <td>0</td>\n",
       "      <td>0</td>\n",
       "      <td>8.4583</td>\n",
       "      <td>Q</td>\n",
       "      <td>Third</td>\n",
       "      <td>man</td>\n",
       "      <td>True</td>\n",
       "      <td>NaN</td>\n",
       "      <td>Queenstown</td>\n",
       "      <td>no</td>\n",
       "      <td>True</td>\n",
       "    </tr>\n",
       "    <tr>\n",
       "      <th>9</th>\n",
       "      <td>1</td>\n",
       "      <td>2</td>\n",
       "      <td>female</td>\n",
       "      <td>14.0</td>\n",
       "      <td>1</td>\n",
       "      <td>0</td>\n",
       "      <td>30.0708</td>\n",
       "      <td>C</td>\n",
       "      <td>Second</td>\n",
       "      <td>child</td>\n",
       "      <td>False</td>\n",
       "      <td>NaN</td>\n",
       "      <td>Cherbourg</td>\n",
       "      <td>yes</td>\n",
       "      <td>False</td>\n",
       "    </tr>\n",
       "    <tr>\n",
       "      <th>16</th>\n",
       "      <td>0</td>\n",
       "      <td>3</td>\n",
       "      <td>male</td>\n",
       "      <td>2.0</td>\n",
       "      <td>4</td>\n",
       "      <td>1</td>\n",
       "      <td>29.1250</td>\n",
       "      <td>Q</td>\n",
       "      <td>Third</td>\n",
       "      <td>child</td>\n",
       "      <td>False</td>\n",
       "      <td>NaN</td>\n",
       "      <td>Queenstown</td>\n",
       "      <td>no</td>\n",
       "      <td>False</td>\n",
       "    </tr>\n",
       "    <tr>\n",
       "      <th>19</th>\n",
       "      <td>1</td>\n",
       "      <td>3</td>\n",
       "      <td>female</td>\n",
       "      <td>NaN</td>\n",
       "      <td>0</td>\n",
       "      <td>0</td>\n",
       "      <td>7.2250</td>\n",
       "      <td>C</td>\n",
       "      <td>Third</td>\n",
       "      <td>woman</td>\n",
       "      <td>False</td>\n",
       "      <td>NaN</td>\n",
       "      <td>Cherbourg</td>\n",
       "      <td>yes</td>\n",
       "      <td>True</td>\n",
       "    </tr>\n",
       "  </tbody>\n",
       "</table>\n",
       "</div>"
      ],
      "text/plain": [
       "    survived  pclass     sex   age  sibsp  parch     fare embarked   class    who  adult_male deck embark_town alive  alone\n",
       "1          1       1  female  38.0      1      0  71.2833        C   First  woman       False    C   Cherbourg   yes  False\n",
       "5          0       3    male   NaN      0      0   8.4583        Q   Third    man        True  NaN  Queenstown    no   True\n",
       "9          1       2  female  14.0      1      0  30.0708        C  Second  child       False  NaN   Cherbourg   yes  False\n",
       "16         0       3    male   2.0      4      1  29.1250        Q   Third  child       False  NaN  Queenstown    no  False\n",
       "19         1       3  female   NaN      0      0   7.2250        C   Third  woman       False  NaN   Cherbourg   yes   True"
      ]
     },
     "execution_count": 9,
     "metadata": {},
     "output_type": "execute_result"
    }
   ],
   "source": [
    "#########################################\n",
    "# Görev 8: embarked değeri S olmayanların tüm bilgelerini gösteriniz.\n",
    "# Task 8: Show all records where the embarked value is NOT 'S'.\n",
    "#########################################\n",
    "\n",
    "df.loc[(df[\"embarked\"] != \"S\")]\n",
    "\n",
    "embarked_s=df[df['embarked']!='S']\n",
    "embarked_s.head()"
   ]
  },
  {
   "cell_type": "code",
   "execution_count": 10,
   "id": "b797fc0d",
   "metadata": {
    "execution": {
     "iopub.execute_input": "2024-09-11T14:01:33.340982Z",
     "iopub.status.busy": "2024-09-11T14:01:33.339961Z",
     "iopub.status.idle": "2024-09-11T14:01:33.361148Z",
     "shell.execute_reply": "2024-09-11T14:01:33.359932Z"
    },
    "papermill": {
     "duration": 0.032109,
     "end_time": "2024-09-11T14:01:33.363517",
     "exception": false,
     "start_time": "2024-09-11T14:01:33.331408",
     "status": "completed"
    },
    "tags": []
   },
   "outputs": [
    {
     "data": {
      "text/html": [
       "<div>\n",
       "<style scoped>\n",
       "    .dataframe tbody tr th:only-of-type {\n",
       "        vertical-align: middle;\n",
       "    }\n",
       "\n",
       "    .dataframe tbody tr th {\n",
       "        vertical-align: top;\n",
       "    }\n",
       "\n",
       "    .dataframe thead th {\n",
       "        text-align: right;\n",
       "    }\n",
       "</style>\n",
       "<table border=\"1\" class=\"dataframe\">\n",
       "  <thead>\n",
       "    <tr style=\"text-align: right;\">\n",
       "      <th></th>\n",
       "      <th>survived</th>\n",
       "      <th>pclass</th>\n",
       "      <th>sex</th>\n",
       "      <th>age</th>\n",
       "      <th>sibsp</th>\n",
       "      <th>parch</th>\n",
       "      <th>fare</th>\n",
       "      <th>embarked</th>\n",
       "      <th>class</th>\n",
       "      <th>who</th>\n",
       "      <th>adult_male</th>\n",
       "      <th>deck</th>\n",
       "      <th>embark_town</th>\n",
       "      <th>alive</th>\n",
       "      <th>alone</th>\n",
       "    </tr>\n",
       "  </thead>\n",
       "  <tbody>\n",
       "    <tr>\n",
       "      <th>2</th>\n",
       "      <td>1</td>\n",
       "      <td>3</td>\n",
       "      <td>female</td>\n",
       "      <td>26.0</td>\n",
       "      <td>0</td>\n",
       "      <td>0</td>\n",
       "      <td>7.9250</td>\n",
       "      <td>S</td>\n",
       "      <td>Third</td>\n",
       "      <td>woman</td>\n",
       "      <td>False</td>\n",
       "      <td>NaN</td>\n",
       "      <td>Southampton</td>\n",
       "      <td>yes</td>\n",
       "      <td>True</td>\n",
       "    </tr>\n",
       "    <tr>\n",
       "      <th>8</th>\n",
       "      <td>1</td>\n",
       "      <td>3</td>\n",
       "      <td>female</td>\n",
       "      <td>27.0</td>\n",
       "      <td>0</td>\n",
       "      <td>2</td>\n",
       "      <td>11.1333</td>\n",
       "      <td>S</td>\n",
       "      <td>Third</td>\n",
       "      <td>woman</td>\n",
       "      <td>False</td>\n",
       "      <td>NaN</td>\n",
       "      <td>Southampton</td>\n",
       "      <td>yes</td>\n",
       "      <td>False</td>\n",
       "    </tr>\n",
       "    <tr>\n",
       "      <th>9</th>\n",
       "      <td>1</td>\n",
       "      <td>2</td>\n",
       "      <td>female</td>\n",
       "      <td>14.0</td>\n",
       "      <td>1</td>\n",
       "      <td>0</td>\n",
       "      <td>30.0708</td>\n",
       "      <td>C</td>\n",
       "      <td>Second</td>\n",
       "      <td>child</td>\n",
       "      <td>False</td>\n",
       "      <td>NaN</td>\n",
       "      <td>Cherbourg</td>\n",
       "      <td>yes</td>\n",
       "      <td>False</td>\n",
       "    </tr>\n",
       "    <tr>\n",
       "      <th>10</th>\n",
       "      <td>1</td>\n",
       "      <td>3</td>\n",
       "      <td>female</td>\n",
       "      <td>4.0</td>\n",
       "      <td>1</td>\n",
       "      <td>1</td>\n",
       "      <td>16.7000</td>\n",
       "      <td>S</td>\n",
       "      <td>Third</td>\n",
       "      <td>child</td>\n",
       "      <td>False</td>\n",
       "      <td>G</td>\n",
       "      <td>Southampton</td>\n",
       "      <td>yes</td>\n",
       "      <td>False</td>\n",
       "    </tr>\n",
       "    <tr>\n",
       "      <th>14</th>\n",
       "      <td>0</td>\n",
       "      <td>3</td>\n",
       "      <td>female</td>\n",
       "      <td>14.0</td>\n",
       "      <td>0</td>\n",
       "      <td>0</td>\n",
       "      <td>7.8542</td>\n",
       "      <td>S</td>\n",
       "      <td>Third</td>\n",
       "      <td>child</td>\n",
       "      <td>False</td>\n",
       "      <td>NaN</td>\n",
       "      <td>Southampton</td>\n",
       "      <td>no</td>\n",
       "      <td>True</td>\n",
       "    </tr>\n",
       "  </tbody>\n",
       "</table>\n",
       "</div>"
      ],
      "text/plain": [
       "    survived  pclass     sex   age  sibsp  parch     fare embarked   class    who  adult_male deck  embark_town alive  alone\n",
       "2          1       3  female  26.0      0      0   7.9250        S   Third  woman       False  NaN  Southampton   yes   True\n",
       "8          1       3  female  27.0      0      2  11.1333        S   Third  woman       False  NaN  Southampton   yes  False\n",
       "9          1       2  female  14.0      1      0  30.0708        C  Second  child       False  NaN    Cherbourg   yes  False\n",
       "10         1       3  female   4.0      1      1  16.7000        S   Third  child       False    G  Southampton   yes  False\n",
       "14         0       3  female  14.0      0      0   7.8542        S   Third  child       False  NaN  Southampton    no   True"
      ]
     },
     "execution_count": 10,
     "metadata": {},
     "output_type": "execute_result"
    }
   ],
   "source": [
    "#########################################\n",
    "# Görev 9: Yaşı 30 dan küçük ve kadın olan yolcuların tüm bilgilerini gösteriniz.\n",
    "# Task 9: Show all records where the age is less than 30 and the passenger is female.\n",
    "#########################################\n",
    "\n",
    "df.loc[(df[\"age\"]<30) & (df[\"sex\"]==\"female\")]\n",
    "\n",
    "female_age_r=df[(df[\"sex\"]==\"female\") & (df[\"age\"]<30)]\n",
    "female_age_r.head()"
   ]
  },
  {
   "cell_type": "code",
   "execution_count": 11,
   "id": "3827a34b",
   "metadata": {
    "execution": {
     "iopub.execute_input": "2024-09-11T14:01:33.380191Z",
     "iopub.status.busy": "2024-09-11T14:01:33.379763Z",
     "iopub.status.idle": "2024-09-11T14:01:33.400264Z",
     "shell.execute_reply": "2024-09-11T14:01:33.399190Z"
    },
    "papermill": {
     "duration": 0.031603,
     "end_time": "2024-09-11T14:01:33.402575",
     "exception": false,
     "start_time": "2024-09-11T14:01:33.370972",
     "status": "completed"
    },
    "tags": []
   },
   "outputs": [
    {
     "data": {
      "text/html": [
       "<div>\n",
       "<style scoped>\n",
       "    .dataframe tbody tr th:only-of-type {\n",
       "        vertical-align: middle;\n",
       "    }\n",
       "\n",
       "    .dataframe tbody tr th {\n",
       "        vertical-align: top;\n",
       "    }\n",
       "\n",
       "    .dataframe thead th {\n",
       "        text-align: right;\n",
       "    }\n",
       "</style>\n",
       "<table border=\"1\" class=\"dataframe\">\n",
       "  <thead>\n",
       "    <tr style=\"text-align: right;\">\n",
       "      <th></th>\n",
       "      <th>survived</th>\n",
       "      <th>pclass</th>\n",
       "      <th>sex</th>\n",
       "      <th>age</th>\n",
       "      <th>sibsp</th>\n",
       "      <th>parch</th>\n",
       "      <th>fare</th>\n",
       "      <th>embarked</th>\n",
       "      <th>class</th>\n",
       "      <th>who</th>\n",
       "      <th>adult_male</th>\n",
       "      <th>deck</th>\n",
       "      <th>embark_town</th>\n",
       "      <th>alive</th>\n",
       "      <th>alone</th>\n",
       "    </tr>\n",
       "  </thead>\n",
       "  <tbody>\n",
       "    <tr>\n",
       "      <th>96</th>\n",
       "      <td>0</td>\n",
       "      <td>1</td>\n",
       "      <td>male</td>\n",
       "      <td>71.0</td>\n",
       "      <td>0</td>\n",
       "      <td>0</td>\n",
       "      <td>34.6542</td>\n",
       "      <td>C</td>\n",
       "      <td>First</td>\n",
       "      <td>man</td>\n",
       "      <td>True</td>\n",
       "      <td>A</td>\n",
       "      <td>Cherbourg</td>\n",
       "      <td>no</td>\n",
       "      <td>True</td>\n",
       "    </tr>\n",
       "    <tr>\n",
       "      <th>116</th>\n",
       "      <td>0</td>\n",
       "      <td>3</td>\n",
       "      <td>male</td>\n",
       "      <td>70.5</td>\n",
       "      <td>0</td>\n",
       "      <td>0</td>\n",
       "      <td>7.7500</td>\n",
       "      <td>Q</td>\n",
       "      <td>Third</td>\n",
       "      <td>man</td>\n",
       "      <td>True</td>\n",
       "      <td>NaN</td>\n",
       "      <td>Queenstown</td>\n",
       "      <td>no</td>\n",
       "      <td>True</td>\n",
       "    </tr>\n",
       "    <tr>\n",
       "      <th>258</th>\n",
       "      <td>1</td>\n",
       "      <td>1</td>\n",
       "      <td>female</td>\n",
       "      <td>35.0</td>\n",
       "      <td>0</td>\n",
       "      <td>0</td>\n",
       "      <td>512.3292</td>\n",
       "      <td>C</td>\n",
       "      <td>First</td>\n",
       "      <td>woman</td>\n",
       "      <td>False</td>\n",
       "      <td>NaN</td>\n",
       "      <td>Cherbourg</td>\n",
       "      <td>yes</td>\n",
       "      <td>True</td>\n",
       "    </tr>\n",
       "    <tr>\n",
       "      <th>493</th>\n",
       "      <td>0</td>\n",
       "      <td>1</td>\n",
       "      <td>male</td>\n",
       "      <td>71.0</td>\n",
       "      <td>0</td>\n",
       "      <td>0</td>\n",
       "      <td>49.5042</td>\n",
       "      <td>C</td>\n",
       "      <td>First</td>\n",
       "      <td>man</td>\n",
       "      <td>True</td>\n",
       "      <td>NaN</td>\n",
       "      <td>Cherbourg</td>\n",
       "      <td>no</td>\n",
       "      <td>True</td>\n",
       "    </tr>\n",
       "    <tr>\n",
       "      <th>630</th>\n",
       "      <td>1</td>\n",
       "      <td>1</td>\n",
       "      <td>male</td>\n",
       "      <td>80.0</td>\n",
       "      <td>0</td>\n",
       "      <td>0</td>\n",
       "      <td>30.0000</td>\n",
       "      <td>S</td>\n",
       "      <td>First</td>\n",
       "      <td>man</td>\n",
       "      <td>True</td>\n",
       "      <td>A</td>\n",
       "      <td>Southampton</td>\n",
       "      <td>yes</td>\n",
       "      <td>True</td>\n",
       "    </tr>\n",
       "  </tbody>\n",
       "</table>\n",
       "</div>"
      ],
      "text/plain": [
       "     survived  pclass     sex   age  sibsp  parch      fare embarked  class    who  adult_male deck  embark_town alive  alone\n",
       "96          0       1    male  71.0      0      0   34.6542        C  First    man        True    A    Cherbourg    no   True\n",
       "116         0       3    male  70.5      0      0    7.7500        Q  Third    man        True  NaN   Queenstown    no   True\n",
       "258         1       1  female  35.0      0      0  512.3292        C  First  woman       False  NaN    Cherbourg   yes   True\n",
       "493         0       1    male  71.0      0      0   49.5042        C  First    man        True  NaN    Cherbourg    no   True\n",
       "630         1       1    male  80.0      0      0   30.0000        S  First    man        True    A  Southampton   yes   True"
      ]
     },
     "execution_count": 11,
     "metadata": {},
     "output_type": "execute_result"
    }
   ],
   "source": [
    "#########################################\n",
    "# Görev 10: Fare'i 500'den büyük veya yaşı 70 den büyük yolcuların bilgilerini gösteriniz.\n",
    "# Task 10: Show records where the fare is greater than 500 or the age is greater than 70.\n",
    "#########################################\n",
    "\n",
    "df.loc[(df[\"fare\"]>500) | (df[\"age\"]>70)]\n",
    "\n",
    "fare_r=df[(df[\"fare\"]>500) | (df[\"age\"]>70)]\n",
    "fare_r.head()\n"
   ]
  },
  {
   "cell_type": "code",
   "execution_count": 12,
   "id": "6709fc0c",
   "metadata": {
    "execution": {
     "iopub.execute_input": "2024-09-11T14:01:33.419751Z",
     "iopub.status.busy": "2024-09-11T14:01:33.419350Z",
     "iopub.status.idle": "2024-09-11T14:01:33.428760Z",
     "shell.execute_reply": "2024-09-11T14:01:33.427717Z"
    },
    "papermill": {
     "duration": 0.020667,
     "end_time": "2024-09-11T14:01:33.430868",
     "exception": false,
     "start_time": "2024-09-11T14:01:33.410201",
     "status": "completed"
    },
    "tags": []
   },
   "outputs": [
    {
     "data": {
      "text/plain": [
       "survived         0\n",
       "pclass           0\n",
       "sex              0\n",
       "age            177\n",
       "sibsp            0\n",
       "parch            0\n",
       "fare             0\n",
       "embarked         2\n",
       "class            0\n",
       "who              0\n",
       "adult_male       0\n",
       "deck           688\n",
       "embark_town      2\n",
       "alive            0\n",
       "alone            0\n",
       "dtype: int64"
      ]
     },
     "execution_count": 12,
     "metadata": {},
     "output_type": "execute_result"
    }
   ],
   "source": [
    "#########################################\n",
    "# Görev 11: Her bir değişkendeki boş değerlerin toplamını bulunuz.\n",
    "# Task 11: Find the total number of missing values for each variable.\n",
    "#########################################\n",
    "\n",
    "df.isnull().sum()"
   ]
  },
  {
   "cell_type": "code",
   "execution_count": 13,
   "id": "3199a98c",
   "metadata": {
    "execution": {
     "iopub.execute_input": "2024-09-11T14:01:33.448043Z",
     "iopub.status.busy": "2024-09-11T14:01:33.447625Z",
     "iopub.status.idle": "2024-09-11T14:01:33.465766Z",
     "shell.execute_reply": "2024-09-11T14:01:33.464699Z"
    },
    "papermill": {
     "duration": 0.029374,
     "end_time": "2024-09-11T14:01:33.467977",
     "exception": false,
     "start_time": "2024-09-11T14:01:33.438603",
     "status": "completed"
    },
    "tags": []
   },
   "outputs": [
    {
     "data": {
      "text/html": [
       "<div>\n",
       "<style scoped>\n",
       "    .dataframe tbody tr th:only-of-type {\n",
       "        vertical-align: middle;\n",
       "    }\n",
       "\n",
       "    .dataframe tbody tr th {\n",
       "        vertical-align: top;\n",
       "    }\n",
       "\n",
       "    .dataframe thead th {\n",
       "        text-align: right;\n",
       "    }\n",
       "</style>\n",
       "<table border=\"1\" class=\"dataframe\">\n",
       "  <thead>\n",
       "    <tr style=\"text-align: right;\">\n",
       "      <th></th>\n",
       "      <th>survived</th>\n",
       "      <th>pclass</th>\n",
       "      <th>sex</th>\n",
       "      <th>age</th>\n",
       "      <th>sibsp</th>\n",
       "      <th>parch</th>\n",
       "      <th>fare</th>\n",
       "      <th>embarked</th>\n",
       "      <th>class</th>\n",
       "      <th>adult_male</th>\n",
       "      <th>deck</th>\n",
       "      <th>embark_town</th>\n",
       "      <th>alive</th>\n",
       "      <th>alone</th>\n",
       "    </tr>\n",
       "  </thead>\n",
       "  <tbody>\n",
       "    <tr>\n",
       "      <th>0</th>\n",
       "      <td>0</td>\n",
       "      <td>3</td>\n",
       "      <td>male</td>\n",
       "      <td>22.0</td>\n",
       "      <td>1</td>\n",
       "      <td>0</td>\n",
       "      <td>7.2500</td>\n",
       "      <td>S</td>\n",
       "      <td>Third</td>\n",
       "      <td>True</td>\n",
       "      <td>NaN</td>\n",
       "      <td>Southampton</td>\n",
       "      <td>no</td>\n",
       "      <td>False</td>\n",
       "    </tr>\n",
       "    <tr>\n",
       "      <th>1</th>\n",
       "      <td>1</td>\n",
       "      <td>1</td>\n",
       "      <td>female</td>\n",
       "      <td>38.0</td>\n",
       "      <td>1</td>\n",
       "      <td>0</td>\n",
       "      <td>71.2833</td>\n",
       "      <td>C</td>\n",
       "      <td>First</td>\n",
       "      <td>False</td>\n",
       "      <td>C</td>\n",
       "      <td>Cherbourg</td>\n",
       "      <td>yes</td>\n",
       "      <td>False</td>\n",
       "    </tr>\n",
       "    <tr>\n",
       "      <th>2</th>\n",
       "      <td>1</td>\n",
       "      <td>3</td>\n",
       "      <td>female</td>\n",
       "      <td>26.0</td>\n",
       "      <td>0</td>\n",
       "      <td>0</td>\n",
       "      <td>7.9250</td>\n",
       "      <td>S</td>\n",
       "      <td>Third</td>\n",
       "      <td>False</td>\n",
       "      <td>NaN</td>\n",
       "      <td>Southampton</td>\n",
       "      <td>yes</td>\n",
       "      <td>True</td>\n",
       "    </tr>\n",
       "    <tr>\n",
       "      <th>3</th>\n",
       "      <td>1</td>\n",
       "      <td>1</td>\n",
       "      <td>female</td>\n",
       "      <td>35.0</td>\n",
       "      <td>1</td>\n",
       "      <td>0</td>\n",
       "      <td>53.1000</td>\n",
       "      <td>S</td>\n",
       "      <td>First</td>\n",
       "      <td>False</td>\n",
       "      <td>C</td>\n",
       "      <td>Southampton</td>\n",
       "      <td>yes</td>\n",
       "      <td>False</td>\n",
       "    </tr>\n",
       "    <tr>\n",
       "      <th>4</th>\n",
       "      <td>0</td>\n",
       "      <td>3</td>\n",
       "      <td>male</td>\n",
       "      <td>35.0</td>\n",
       "      <td>0</td>\n",
       "      <td>0</td>\n",
       "      <td>8.0500</td>\n",
       "      <td>S</td>\n",
       "      <td>Third</td>\n",
       "      <td>True</td>\n",
       "      <td>NaN</td>\n",
       "      <td>Southampton</td>\n",
       "      <td>no</td>\n",
       "      <td>True</td>\n",
       "    </tr>\n",
       "  </tbody>\n",
       "</table>\n",
       "</div>"
      ],
      "text/plain": [
       "   survived  pclass     sex   age  sibsp  parch     fare embarked  class  adult_male deck  embark_town alive  alone\n",
       "0         0       3    male  22.0      1      0   7.2500        S  Third        True  NaN  Southampton    no  False\n",
       "1         1       1  female  38.0      1      0  71.2833        C  First       False    C    Cherbourg   yes  False\n",
       "2         1       3  female  26.0      0      0   7.9250        S  Third       False  NaN  Southampton   yes   True\n",
       "3         1       1  female  35.0      1      0  53.1000        S  First       False    C  Southampton   yes  False\n",
       "4         0       3    male  35.0      0      0   8.0500        S  Third        True  NaN  Southampton    no   True"
      ]
     },
     "execution_count": 13,
     "metadata": {},
     "output_type": "execute_result"
    }
   ],
   "source": [
    "#########################################\n",
    "# Görev 12: who değişkenini dataframe'den düşürün.\n",
    "# Task 12: Drop the who variable from the DataFrame.\n",
    "#########################################\n",
    "\n",
    "df.drop('who', axis=1).head()"
   ]
  },
  {
   "cell_type": "code",
   "execution_count": 14,
   "id": "dfc8bad6",
   "metadata": {
    "execution": {
     "iopub.execute_input": "2024-09-11T14:01:33.486082Z",
     "iopub.status.busy": "2024-09-11T14:01:33.485338Z",
     "iopub.status.idle": "2024-09-11T14:01:33.494711Z",
     "shell.execute_reply": "2024-09-11T14:01:33.493680Z"
    },
    "papermill": {
     "duration": 0.020784,
     "end_time": "2024-09-11T14:01:33.496820",
     "exception": false,
     "start_time": "2024-09-11T14:01:33.476036",
     "status": "completed"
    },
    "tags": []
   },
   "outputs": [
    {
     "data": {
      "text/plain": [
       "0"
      ]
     },
     "execution_count": 14,
     "metadata": {},
     "output_type": "execute_result"
    }
   ],
   "source": [
    "#########################################\n",
    "# Görev 13: deck değikenindeki boş değerleri deck değişkenin en çok tekrar eden değeri (mode) ile doldurunuz.\n",
    "# Task 13: Fill the missing values in the deck variable with the most frequent value (mode) of the deck variable.\n",
    "#########################################\n",
    "\n",
    "df['deck'] = df['deck'].fillna(df['deck'].mode()[0])\n",
    "df['deck'].isnull().sum()"
   ]
  },
  {
   "cell_type": "code",
   "execution_count": 15,
   "id": "29ff15ed",
   "metadata": {
    "execution": {
     "iopub.execute_input": "2024-09-11T14:01:33.514977Z",
     "iopub.status.busy": "2024-09-11T14:01:33.514086Z",
     "iopub.status.idle": "2024-09-11T14:01:33.524343Z",
     "shell.execute_reply": "2024-09-11T14:01:33.523340Z"
    },
    "papermill": {
     "duration": 0.021592,
     "end_time": "2024-09-11T14:01:33.526467",
     "exception": false,
     "start_time": "2024-09-11T14:01:33.504875",
     "status": "completed"
    },
    "tags": []
   },
   "outputs": [
    {
     "data": {
      "text/plain": [
       "0"
      ]
     },
     "execution_count": 15,
     "metadata": {},
     "output_type": "execute_result"
    }
   ],
   "source": [
    "#########################################\n",
    "# Görev 14: age değikenindeki boş değerleri age değişkenin medyanı ile doldurun.\n",
    "# Task 14: Fill the missing values in the age variable with the median value of the age variable.\n",
    "#########################################\n",
    "\n",
    "df['age'] = df['age'].fillna(df['age'].median())\n",
    "df['age'].isnull().sum()"
   ]
  },
  {
   "cell_type": "code",
   "execution_count": 16,
   "id": "a5cca60f",
   "metadata": {
    "execution": {
     "iopub.execute_input": "2024-09-11T14:01:33.545393Z",
     "iopub.status.busy": "2024-09-11T14:01:33.544523Z",
     "iopub.status.idle": "2024-09-11T14:01:33.567585Z",
     "shell.execute_reply": "2024-09-11T14:01:33.566477Z"
    },
    "papermill": {
     "duration": 0.035421,
     "end_time": "2024-09-11T14:01:33.570018",
     "exception": false,
     "start_time": "2024-09-11T14:01:33.534597",
     "status": "completed"
    },
    "tags": []
   },
   "outputs": [
    {
     "data": {
      "text/html": [
       "<div>\n",
       "<style scoped>\n",
       "    .dataframe tbody tr th:only-of-type {\n",
       "        vertical-align: middle;\n",
       "    }\n",
       "\n",
       "    .dataframe tbody tr th {\n",
       "        vertical-align: top;\n",
       "    }\n",
       "\n",
       "    .dataframe thead tr th {\n",
       "        text-align: left;\n",
       "    }\n",
       "\n",
       "    .dataframe thead tr:last-of-type th {\n",
       "        text-align: right;\n",
       "    }\n",
       "</style>\n",
       "<table border=\"1\" class=\"dataframe\">\n",
       "  <thead>\n",
       "    <tr>\n",
       "      <th></th>\n",
       "      <th></th>\n",
       "      <th colspan=\"3\" halign=\"left\">survived</th>\n",
       "    </tr>\n",
       "    <tr>\n",
       "      <th></th>\n",
       "      <th></th>\n",
       "      <th>sum</th>\n",
       "      <th>count</th>\n",
       "      <th>mean</th>\n",
       "    </tr>\n",
       "    <tr>\n",
       "      <th>pclass</th>\n",
       "      <th>sex</th>\n",
       "      <th></th>\n",
       "      <th></th>\n",
       "      <th></th>\n",
       "    </tr>\n",
       "  </thead>\n",
       "  <tbody>\n",
       "    <tr>\n",
       "      <th rowspan=\"2\" valign=\"top\">1</th>\n",
       "      <th>female</th>\n",
       "      <td>91</td>\n",
       "      <td>94</td>\n",
       "      <td>0.968085</td>\n",
       "    </tr>\n",
       "    <tr>\n",
       "      <th>male</th>\n",
       "      <td>45</td>\n",
       "      <td>122</td>\n",
       "      <td>0.368852</td>\n",
       "    </tr>\n",
       "    <tr>\n",
       "      <th rowspan=\"2\" valign=\"top\">2</th>\n",
       "      <th>female</th>\n",
       "      <td>70</td>\n",
       "      <td>76</td>\n",
       "      <td>0.921053</td>\n",
       "    </tr>\n",
       "    <tr>\n",
       "      <th>male</th>\n",
       "      <td>17</td>\n",
       "      <td>108</td>\n",
       "      <td>0.157407</td>\n",
       "    </tr>\n",
       "    <tr>\n",
       "      <th rowspan=\"2\" valign=\"top\">3</th>\n",
       "      <th>female</th>\n",
       "      <td>72</td>\n",
       "      <td>144</td>\n",
       "      <td>0.500000</td>\n",
       "    </tr>\n",
       "    <tr>\n",
       "      <th>male</th>\n",
       "      <td>47</td>\n",
       "      <td>347</td>\n",
       "      <td>0.135447</td>\n",
       "    </tr>\n",
       "  </tbody>\n",
       "</table>\n",
       "</div>"
      ],
      "text/plain": [
       "              survived                \n",
       "                   sum count      mean\n",
       "pclass sex                            \n",
       "1      female       91    94  0.968085\n",
       "       male         45   122  0.368852\n",
       "2      female       70    76  0.921053\n",
       "       male         17   108  0.157407\n",
       "3      female       72   144  0.500000\n",
       "       male         47   347  0.135447"
      ]
     },
     "execution_count": 16,
     "metadata": {},
     "output_type": "execute_result"
    }
   ],
   "source": [
    "#########################################\n",
    "# Görev 15: survived değişkeninin Pclass ve Cinsiyet değişkenleri kırılımınında sum, count, mean değerlerini bulunuz.\n",
    "# Task 15: Find the sum, count, and mean values of the survived variable by the pclass and sex variables.\n",
    "#########################################\n",
    "\n",
    "df.groupby([\"pclass\", \"sex\"]).agg({\"survived\": [\"sum\", \"count\", \"mean\"]})"
   ]
  },
  {
   "cell_type": "code",
   "execution_count": 17,
   "id": "f6b520e2",
   "metadata": {
    "execution": {
     "iopub.execute_input": "2024-09-11T14:01:33.589384Z",
     "iopub.status.busy": "2024-09-11T14:01:33.588432Z",
     "iopub.status.idle": "2024-09-11T14:01:33.599194Z",
     "shell.execute_reply": "2024-09-11T14:01:33.598066Z"
    },
    "papermill": {
     "duration": 0.022658,
     "end_time": "2024-09-11T14:01:33.601277",
     "exception": false,
     "start_time": "2024-09-11T14:01:33.578619",
     "status": "completed"
    },
    "tags": []
   },
   "outputs": [
    {
     "data": {
      "text/plain": [
       "0    1\n",
       "1    0\n",
       "2    1\n",
       "3    0\n",
       "4    0\n",
       "Name: age_flag, dtype: int64"
      ]
     },
     "execution_count": 17,
     "metadata": {},
     "output_type": "execute_result"
    }
   ],
   "source": [
    "#########################################\n",
    "# Görev 16:  30 yaşın altında olanlar 1, 30'a eşit ve üstünde olanlara 0 vericek bir fonksiyon yazınız.\n",
    "# Yazdığınız fonksiyonu kullanarak titanik veri setinde age_flag adında bir değişken oluşturunuz oluşturunuz. (apply ve lambda yapılarını kullanınız)\n",
    "\n",
    "#Task 16: Write a function that assigns 1 to passengers under 30 years old and 0 to those 30 years old and older.\n",
    "# Create a new variable called age_flag in the Titanic dataset using this function with apply and lambda.\n",
    "#########################################\n",
    "\n",
    "def age_funct(age):\n",
    "    return 1 if age < 30 else 0\n",
    "\n",
    "#######df['age_flag'] = df['age'].apply(age_funct).head()\n",
    "\n",
    "df['age_flag'] = df['age'].apply(lambda age: 1 if age < 30 else 0)\n",
    "\n",
    "df['age_flag'].head()"
   ]
  },
  {
   "cell_type": "code",
   "execution_count": 18,
   "id": "004819d3",
   "metadata": {
    "execution": {
     "iopub.execute_input": "2024-09-11T14:01:33.620429Z",
     "iopub.status.busy": "2024-09-11T14:01:33.619655Z",
     "iopub.status.idle": "2024-09-11T14:01:33.639075Z",
     "shell.execute_reply": "2024-09-11T14:01:33.638058Z"
    },
    "papermill": {
     "duration": 0.031776,
     "end_time": "2024-09-11T14:01:33.641677",
     "exception": false,
     "start_time": "2024-09-11T14:01:33.609901",
     "status": "completed"
    },
    "tags": []
   },
   "outputs": [
    {
     "data": {
      "text/html": [
       "<div>\n",
       "<style scoped>\n",
       "    .dataframe tbody tr th:only-of-type {\n",
       "        vertical-align: middle;\n",
       "    }\n",
       "\n",
       "    .dataframe tbody tr th {\n",
       "        vertical-align: top;\n",
       "    }\n",
       "\n",
       "    .dataframe thead th {\n",
       "        text-align: right;\n",
       "    }\n",
       "</style>\n",
       "<table border=\"1\" class=\"dataframe\">\n",
       "  <thead>\n",
       "    <tr style=\"text-align: right;\">\n",
       "      <th></th>\n",
       "      <th>total_bill</th>\n",
       "      <th>tip</th>\n",
       "      <th>sex</th>\n",
       "      <th>smoker</th>\n",
       "      <th>day</th>\n",
       "      <th>time</th>\n",
       "      <th>size</th>\n",
       "    </tr>\n",
       "  </thead>\n",
       "  <tbody>\n",
       "    <tr>\n",
       "      <th>0</th>\n",
       "      <td>16.99</td>\n",
       "      <td>1.01</td>\n",
       "      <td>Female</td>\n",
       "      <td>No</td>\n",
       "      <td>Sun</td>\n",
       "      <td>Dinner</td>\n",
       "      <td>2</td>\n",
       "    </tr>\n",
       "    <tr>\n",
       "      <th>1</th>\n",
       "      <td>10.34</td>\n",
       "      <td>1.66</td>\n",
       "      <td>Male</td>\n",
       "      <td>No</td>\n",
       "      <td>Sun</td>\n",
       "      <td>Dinner</td>\n",
       "      <td>3</td>\n",
       "    </tr>\n",
       "    <tr>\n",
       "      <th>2</th>\n",
       "      <td>21.01</td>\n",
       "      <td>3.50</td>\n",
       "      <td>Male</td>\n",
       "      <td>No</td>\n",
       "      <td>Sun</td>\n",
       "      <td>Dinner</td>\n",
       "      <td>3</td>\n",
       "    </tr>\n",
       "    <tr>\n",
       "      <th>3</th>\n",
       "      <td>23.68</td>\n",
       "      <td>3.31</td>\n",
       "      <td>Male</td>\n",
       "      <td>No</td>\n",
       "      <td>Sun</td>\n",
       "      <td>Dinner</td>\n",
       "      <td>2</td>\n",
       "    </tr>\n",
       "    <tr>\n",
       "      <th>4</th>\n",
       "      <td>24.59</td>\n",
       "      <td>3.61</td>\n",
       "      <td>Female</td>\n",
       "      <td>No</td>\n",
       "      <td>Sun</td>\n",
       "      <td>Dinner</td>\n",
       "      <td>4</td>\n",
       "    </tr>\n",
       "  </tbody>\n",
       "</table>\n",
       "</div>"
      ],
      "text/plain": [
       "   total_bill   tip     sex smoker  day    time  size\n",
       "0       16.99  1.01  Female     No  Sun  Dinner     2\n",
       "1       10.34  1.66    Male     No  Sun  Dinner     3\n",
       "2       21.01  3.50    Male     No  Sun  Dinner     3\n",
       "3       23.68  3.31    Male     No  Sun  Dinner     2\n",
       "4       24.59  3.61  Female     No  Sun  Dinner     4"
      ]
     },
     "execution_count": 18,
     "metadata": {},
     "output_type": "execute_result"
    }
   ],
   "source": [
    "#########################################\n",
    "# Görev 17: Seaborn kütüphanesi içerisinden Tips veri setini tanımlayınız.\n",
    "# Task 17: Load the Tips dataset from the Seaborn library.\n",
    "#########################################\n",
    "\n",
    "#df_1 = sns.load_dataset(\"tips\")\n",
    "df_1 = pd.read_csv(\"/kaggle/input/tips-dataset-sns/tips.csv\")\n",
    "df_1.head()"
   ]
  },
  {
   "cell_type": "code",
   "execution_count": 19,
   "id": "c672494a",
   "metadata": {
    "execution": {
     "iopub.execute_input": "2024-09-11T14:01:33.662275Z",
     "iopub.status.busy": "2024-09-11T14:01:33.661383Z",
     "iopub.status.idle": "2024-09-11T14:01:33.684184Z",
     "shell.execute_reply": "2024-09-11T14:01:33.682992Z"
    },
    "papermill": {
     "duration": 0.036006,
     "end_time": "2024-09-11T14:01:33.686672",
     "exception": false,
     "start_time": "2024-09-11T14:01:33.650666",
     "status": "completed"
    },
    "tags": []
   },
   "outputs": [
    {
     "data": {
      "text/html": [
       "<div>\n",
       "<style scoped>\n",
       "    .dataframe tbody tr th:only-of-type {\n",
       "        vertical-align: middle;\n",
       "    }\n",
       "\n",
       "    .dataframe tbody tr th {\n",
       "        vertical-align: top;\n",
       "    }\n",
       "\n",
       "    .dataframe thead tr th {\n",
       "        text-align: left;\n",
       "    }\n",
       "\n",
       "    .dataframe thead tr:last-of-type th {\n",
       "        text-align: right;\n",
       "    }\n",
       "</style>\n",
       "<table border=\"1\" class=\"dataframe\">\n",
       "  <thead>\n",
       "    <tr>\n",
       "      <th></th>\n",
       "      <th colspan=\"4\" halign=\"left\">total_bill</th>\n",
       "    </tr>\n",
       "    <tr>\n",
       "      <th></th>\n",
       "      <th>sum</th>\n",
       "      <th>min</th>\n",
       "      <th>max</th>\n",
       "      <th>mean</th>\n",
       "    </tr>\n",
       "    <tr>\n",
       "      <th>time</th>\n",
       "      <th></th>\n",
       "      <th></th>\n",
       "      <th></th>\n",
       "      <th></th>\n",
       "    </tr>\n",
       "  </thead>\n",
       "  <tbody>\n",
       "    <tr>\n",
       "      <th>Dinner</th>\n",
       "      <td>3660.30</td>\n",
       "      <td>3.07</td>\n",
       "      <td>50.81</td>\n",
       "      <td>20.797159</td>\n",
       "    </tr>\n",
       "    <tr>\n",
       "      <th>Lunch</th>\n",
       "      <td>1167.47</td>\n",
       "      <td>7.51</td>\n",
       "      <td>43.11</td>\n",
       "      <td>17.168676</td>\n",
       "    </tr>\n",
       "  </tbody>\n",
       "</table>\n",
       "</div>"
      ],
      "text/plain": [
       "       total_bill                        \n",
       "              sum   min    max       mean\n",
       "time                                     \n",
       "Dinner    3660.30  3.07  50.81  20.797159\n",
       "Lunch     1167.47  7.51  43.11  17.168676"
      ]
     },
     "execution_count": 19,
     "metadata": {},
     "output_type": "execute_result"
    }
   ],
   "source": [
    "#########################################\n",
    "# Görev 18: Time değişkeninin kategorilerine (Dinner, Lunch) göre total_bill  değerlerinin toplamını, min, max ve ortalamasını bulunuz.\n",
    "# Task 18: For the categories of the time variable (Dinner, Lunch), find the total, min, max, and average values of the total_bill variable.\n",
    "#########################################\n",
    "\n",
    "df_1[\"time\"].value_counts()\n",
    "\n",
    "df_1.groupby(\"time\").agg({\"total_bill\": [\"sum\", \"min\", \"max\", \"mean\"]})"
   ]
  },
  {
   "cell_type": "code",
   "execution_count": 20,
   "id": "bbd43bc7",
   "metadata": {
    "execution": {
     "iopub.execute_input": "2024-09-11T14:01:33.706366Z",
     "iopub.status.busy": "2024-09-11T14:01:33.705942Z",
     "iopub.status.idle": "2024-09-11T14:01:33.723975Z",
     "shell.execute_reply": "2024-09-11T14:01:33.723020Z"
    },
    "papermill": {
     "duration": 0.030349,
     "end_time": "2024-09-11T14:01:33.726125",
     "exception": false,
     "start_time": "2024-09-11T14:01:33.695776",
     "status": "completed"
    },
    "tags": []
   },
   "outputs": [
    {
     "data": {
      "text/html": [
       "<div>\n",
       "<style scoped>\n",
       "    .dataframe tbody tr th:only-of-type {\n",
       "        vertical-align: middle;\n",
       "    }\n",
       "\n",
       "    .dataframe tbody tr th {\n",
       "        vertical-align: top;\n",
       "    }\n",
       "\n",
       "    .dataframe thead tr th {\n",
       "        text-align: left;\n",
       "    }\n",
       "\n",
       "    .dataframe thead tr:last-of-type th {\n",
       "        text-align: right;\n",
       "    }\n",
       "</style>\n",
       "<table border=\"1\" class=\"dataframe\">\n",
       "  <thead>\n",
       "    <tr>\n",
       "      <th></th>\n",
       "      <th></th>\n",
       "      <th colspan=\"3\" halign=\"left\">total_bill</th>\n",
       "    </tr>\n",
       "    <tr>\n",
       "      <th></th>\n",
       "      <th></th>\n",
       "      <th>sum</th>\n",
       "      <th>min</th>\n",
       "      <th>max</th>\n",
       "    </tr>\n",
       "    <tr>\n",
       "      <th>time</th>\n",
       "      <th>day</th>\n",
       "      <th></th>\n",
       "      <th></th>\n",
       "      <th></th>\n",
       "    </tr>\n",
       "  </thead>\n",
       "  <tbody>\n",
       "    <tr>\n",
       "      <th rowspan=\"4\" valign=\"top\">Dinner</th>\n",
       "      <th>Fri</th>\n",
       "      <td>235.96</td>\n",
       "      <td>5.75</td>\n",
       "      <td>40.17</td>\n",
       "    </tr>\n",
       "    <tr>\n",
       "      <th>Sat</th>\n",
       "      <td>1778.40</td>\n",
       "      <td>3.07</td>\n",
       "      <td>50.81</td>\n",
       "    </tr>\n",
       "    <tr>\n",
       "      <th>Sun</th>\n",
       "      <td>1627.16</td>\n",
       "      <td>7.25</td>\n",
       "      <td>48.17</td>\n",
       "    </tr>\n",
       "    <tr>\n",
       "      <th>Thur</th>\n",
       "      <td>18.78</td>\n",
       "      <td>18.78</td>\n",
       "      <td>18.78</td>\n",
       "    </tr>\n",
       "    <tr>\n",
       "      <th rowspan=\"2\" valign=\"top\">Lunch</th>\n",
       "      <th>Fri</th>\n",
       "      <td>89.92</td>\n",
       "      <td>8.58</td>\n",
       "      <td>16.27</td>\n",
       "    </tr>\n",
       "    <tr>\n",
       "      <th>Thur</th>\n",
       "      <td>1077.55</td>\n",
       "      <td>7.51</td>\n",
       "      <td>43.11</td>\n",
       "    </tr>\n",
       "  </tbody>\n",
       "</table>\n",
       "</div>"
      ],
      "text/plain": [
       "            total_bill              \n",
       "                   sum    min    max\n",
       "time   day                          \n",
       "Dinner Fri      235.96   5.75  40.17\n",
       "       Sat     1778.40   3.07  50.81\n",
       "       Sun     1627.16   7.25  48.17\n",
       "       Thur      18.78  18.78  18.78\n",
       "Lunch  Fri       89.92   8.58  16.27\n",
       "       Thur    1077.55   7.51  43.11"
      ]
     },
     "execution_count": 20,
     "metadata": {},
     "output_type": "execute_result"
    }
   ],
   "source": [
    "#########################################\n",
    "# Görev 19: Günlere ve time göre total_bill değerlerinin toplamını, min, max ve ortalamasını bulunuz.\n",
    "# Task 19: For each day and time, find the total, min, max values of the total_bill variable.\n",
    "#########################################\n",
    "\n",
    "df_1.groupby([\"time\", \"day\"]).agg({\"total_bill\": [\"sum\", \"min\", \"max\"]})"
   ]
  },
  {
   "cell_type": "code",
   "execution_count": 21,
   "id": "fb3a0ec2",
   "metadata": {
    "execution": {
     "iopub.execute_input": "2024-09-11T14:01:33.746953Z",
     "iopub.status.busy": "2024-09-11T14:01:33.746040Z",
     "iopub.status.idle": "2024-09-11T14:01:33.766307Z",
     "shell.execute_reply": "2024-09-11T14:01:33.765229Z"
    },
    "papermill": {
     "duration": 0.033046,
     "end_time": "2024-09-11T14:01:33.768444",
     "exception": false,
     "start_time": "2024-09-11T14:01:33.735398",
     "status": "completed"
    },
    "tags": []
   },
   "outputs": [
    {
     "data": {
      "text/html": [
       "<div>\n",
       "<style scoped>\n",
       "    .dataframe tbody tr th:only-of-type {\n",
       "        vertical-align: middle;\n",
       "    }\n",
       "\n",
       "    .dataframe tbody tr th {\n",
       "        vertical-align: top;\n",
       "    }\n",
       "\n",
       "    .dataframe thead th {\n",
       "        text-align: right;\n",
       "    }\n",
       "</style>\n",
       "<table border=\"1\" class=\"dataframe\">\n",
       "  <thead>\n",
       "    <tr style=\"text-align: right;\">\n",
       "      <th></th>\n",
       "      <th>total_bill</th>\n",
       "      <th>tip</th>\n",
       "      <th>sex</th>\n",
       "      <th>smoker</th>\n",
       "      <th>day</th>\n",
       "      <th>time</th>\n",
       "      <th>size</th>\n",
       "    </tr>\n",
       "  </thead>\n",
       "  <tbody>\n",
       "    <tr>\n",
       "      <th>82</th>\n",
       "      <td>10.07</td>\n",
       "      <td>1.83</td>\n",
       "      <td>Female</td>\n",
       "      <td>No</td>\n",
       "      <td>Thur</td>\n",
       "      <td>Lunch</td>\n",
       "      <td>1</td>\n",
       "    </tr>\n",
       "    <tr>\n",
       "      <th>85</th>\n",
       "      <td>34.83</td>\n",
       "      <td>5.17</td>\n",
       "      <td>Female</td>\n",
       "      <td>No</td>\n",
       "      <td>Thur</td>\n",
       "      <td>Lunch</td>\n",
       "      <td>4</td>\n",
       "    </tr>\n",
       "    <tr>\n",
       "      <th>117</th>\n",
       "      <td>10.65</td>\n",
       "      <td>1.50</td>\n",
       "      <td>Female</td>\n",
       "      <td>No</td>\n",
       "      <td>Thur</td>\n",
       "      <td>Lunch</td>\n",
       "      <td>2</td>\n",
       "    </tr>\n",
       "    <tr>\n",
       "      <th>118</th>\n",
       "      <td>12.43</td>\n",
       "      <td>1.80</td>\n",
       "      <td>Female</td>\n",
       "      <td>No</td>\n",
       "      <td>Thur</td>\n",
       "      <td>Lunch</td>\n",
       "      <td>2</td>\n",
       "    </tr>\n",
       "    <tr>\n",
       "      <th>119</th>\n",
       "      <td>24.08</td>\n",
       "      <td>2.92</td>\n",
       "      <td>Female</td>\n",
       "      <td>No</td>\n",
       "      <td>Thur</td>\n",
       "      <td>Lunch</td>\n",
       "      <td>4</td>\n",
       "    </tr>\n",
       "  </tbody>\n",
       "</table>\n",
       "</div>"
      ],
      "text/plain": [
       "     total_bill   tip     sex smoker   day   time  size\n",
       "82        10.07  1.83  Female     No  Thur  Lunch     1\n",
       "85        34.83  5.17  Female     No  Thur  Lunch     4\n",
       "117       10.65  1.50  Female     No  Thur  Lunch     2\n",
       "118       12.43  1.80  Female     No  Thur  Lunch     2\n",
       "119       24.08  2.92  Female     No  Thur  Lunch     4"
      ]
     },
     "execution_count": 21,
     "metadata": {},
     "output_type": "execute_result"
    }
   ],
   "source": [
    "#########################################\n",
    "# Görev 20:Lunch zamanına ve kadın müşterilere ait total_bill ve tip  değerlerinin day'e göre toplamını, min, max ve ortalamasını bulunuz.\n",
    "# Task 20: For Lunch time and female customers, find the total, min, max, and average values of total_bill and tip by day.\n",
    "#########################################\n",
    "\n",
    "\n",
    "female_lunch = df_1.loc[(df_1[\"time\"]==\"Lunch\") & (df_1[\"sex\"]==\"Female\")]\n",
    "female_lunch_agg = female_lunch.groupby(\"day\").agg({\"total_bill\": [\"sum\", \"min\", \"max\", \"mean\"],\n",
    "                                 \"tip\": [\"sum\", \"min\", \"max\", \"mean\"]})\n",
    "\n",
    "female_lunch.head()"
   ]
  },
  {
   "cell_type": "code",
   "execution_count": 22,
   "id": "86c4d945",
   "metadata": {
    "execution": {
     "iopub.execute_input": "2024-09-11T14:01:33.788948Z",
     "iopub.status.busy": "2024-09-11T14:01:33.788538Z",
     "iopub.status.idle": "2024-09-11T14:01:33.796983Z",
     "shell.execute_reply": "2024-09-11T14:01:33.796058Z"
    },
    "papermill": {
     "duration": 0.021114,
     "end_time": "2024-09-11T14:01:33.799039",
     "exception": false,
     "start_time": "2024-09-11T14:01:33.777925",
     "status": "completed"
    },
    "tags": []
   },
   "outputs": [
    {
     "data": {
      "text/plain": [
       "17.184965034965035"
      ]
     },
     "execution_count": 22,
     "metadata": {},
     "output_type": "execute_result"
    }
   ],
   "source": [
    "#########################################\n",
    "# Görev 21: size'i 3'ten küçük, total_bill'i 10'dan büyük olan siparişlerin ortalaması nedir?\n",
    "# Task 21: What is the average of orders where the size is less than 3 and total_bill is greater than 10?\n",
    "#########################################\n",
    "\n",
    "df_1.loc[(df_1[\"size\"] < 3) & (df_1[\"total_bill\"] >10 ) , \"total_bill\"].mean()"
   ]
  },
  {
   "cell_type": "code",
   "execution_count": 23,
   "id": "3b0ce5fa",
   "metadata": {
    "execution": {
     "iopub.execute_input": "2024-09-11T14:01:33.820050Z",
     "iopub.status.busy": "2024-09-11T14:01:33.818968Z",
     "iopub.status.idle": "2024-09-11T14:01:33.832718Z",
     "shell.execute_reply": "2024-09-11T14:01:33.831584Z"
    },
    "papermill": {
     "duration": 0.02677,
     "end_time": "2024-09-11T14:01:33.835169",
     "exception": false,
     "start_time": "2024-09-11T14:01:33.808399",
     "status": "completed"
    },
    "tags": []
   },
   "outputs": [
    {
     "data": {
      "text/html": [
       "<div>\n",
       "<style scoped>\n",
       "    .dataframe tbody tr th:only-of-type {\n",
       "        vertical-align: middle;\n",
       "    }\n",
       "\n",
       "    .dataframe tbody tr th {\n",
       "        vertical-align: top;\n",
       "    }\n",
       "\n",
       "    .dataframe thead th {\n",
       "        text-align: right;\n",
       "    }\n",
       "</style>\n",
       "<table border=\"1\" class=\"dataframe\">\n",
       "  <thead>\n",
       "    <tr style=\"text-align: right;\">\n",
       "      <th></th>\n",
       "      <th>total_bill_tip_sum</th>\n",
       "      <th>total_bill</th>\n",
       "      <th>tip</th>\n",
       "    </tr>\n",
       "  </thead>\n",
       "  <tbody>\n",
       "    <tr>\n",
       "      <th>0</th>\n",
       "      <td>18.00</td>\n",
       "      <td>16.99</td>\n",
       "      <td>1.01</td>\n",
       "    </tr>\n",
       "    <tr>\n",
       "      <th>1</th>\n",
       "      <td>12.00</td>\n",
       "      <td>10.34</td>\n",
       "      <td>1.66</td>\n",
       "    </tr>\n",
       "    <tr>\n",
       "      <th>2</th>\n",
       "      <td>24.51</td>\n",
       "      <td>21.01</td>\n",
       "      <td>3.50</td>\n",
       "    </tr>\n",
       "    <tr>\n",
       "      <th>3</th>\n",
       "      <td>26.99</td>\n",
       "      <td>23.68</td>\n",
       "      <td>3.31</td>\n",
       "    </tr>\n",
       "    <tr>\n",
       "      <th>4</th>\n",
       "      <td>28.20</td>\n",
       "      <td>24.59</td>\n",
       "      <td>3.61</td>\n",
       "    </tr>\n",
       "  </tbody>\n",
       "</table>\n",
       "</div>"
      ],
      "text/plain": [
       "   total_bill_tip_sum  total_bill   tip\n",
       "0               18.00       16.99  1.01\n",
       "1               12.00       10.34  1.66\n",
       "2               24.51       21.01  3.50\n",
       "3               26.99       23.68  3.31\n",
       "4               28.20       24.59  3.61"
      ]
     },
     "execution_count": 23,
     "metadata": {},
     "output_type": "execute_result"
    }
   ],
   "source": [
    "#########################################\n",
    "# Görev 22: total_bill_tip_sum adında yeni bir değişken oluşturun. Her bir müşterinin ödediği totalbill ve tip in toplamını versin.\n",
    "# ask 22: Create a new variable called total_bill_tip_sum which is the sum of total_bill and tip for each customer.\n",
    "#########################################\n",
    "\n",
    "\n",
    "df_1[\"total_bill_tip_sum\"] = df_1[\"total_bill\"] + df_1[\"tip\"]\n",
    "df_1[[\"total_bill_tip_sum\", \"total_bill\", \"tip\"]].head()"
   ]
  },
  {
   "cell_type": "code",
   "execution_count": 24,
   "id": "41537429",
   "metadata": {
    "execution": {
     "iopub.execute_input": "2024-09-11T14:01:33.856214Z",
     "iopub.status.busy": "2024-09-11T14:01:33.855795Z",
     "iopub.status.idle": "2024-09-11T14:01:33.868230Z",
     "shell.execute_reply": "2024-09-11T14:01:33.867238Z"
    },
    "papermill": {
     "duration": 0.025343,
     "end_time": "2024-09-11T14:01:33.870376",
     "exception": false,
     "start_time": "2024-09-11T14:01:33.845033",
     "status": "completed"
    },
    "tags": []
   },
   "outputs": [
    {
     "name": "stdout",
     "output_type": "stream",
     "text": [
      "     total_bill    tip     sex smoker   day    time  size  total_bill_tip_sum\n",
      "170       50.81  10.00    Male    Yes   Sat  Dinner     3               60.81\n",
      "212       48.33   9.00    Male     No   Sat  Dinner     4               57.33\n",
      "59        48.27   6.73    Male     No   Sat  Dinner     4               55.00\n",
      "156       48.17   5.00    Male     No   Sun  Dinner     6               53.17\n",
      "182       45.35   3.50    Male    Yes   Sun  Dinner     3               48.85\n",
      "197       43.11   5.00  Female    Yes  Thur   Lunch     4               48.11\n",
      "23        39.42   7.58    Male     No   Sat  Dinner     4               47.00\n",
      "102       44.30   2.50  Female    Yes   Sat  Dinner     3               46.80\n",
      "142       41.19   5.00    Male     No  Thur   Lunch     5               46.19\n",
      "95        40.17   4.73    Male    Yes   Fri  Dinner     4               44.90\n",
      "184       40.55   3.00    Male    Yes   Sun  Dinner     2               43.55\n",
      "112       38.07   4.00    Male     No   Sun  Dinner     3               42.07\n",
      "207       38.73   3.00    Male    Yes   Sat  Dinner     4               41.73\n",
      "56        38.01   3.00    Male    Yes   Sat  Dinner     4               41.01\n",
      "141       34.30   6.70    Male     No  Thur   Lunch     6               41.00\n",
      "238       35.83   4.67  Female     No   Sat  Dinner     3               40.50\n",
      "11        35.26   5.00  Female     No   Sun  Dinner     4               40.26\n",
      "52        34.81   5.20  Female     No   Sun  Dinner     4               40.01\n",
      "85        34.83   5.17  Female     No  Thur   Lunch     4               40.00\n",
      "47        32.40   6.00    Male     No   Sun  Dinner     4               38.40\n"
     ]
    }
   ],
   "source": [
    "#########################################\n",
    "# Görev 23: total_bill_tip_sum değişkenine göre büyükten küçüğe sıralayınız ve ilk 30 kişiyi yeni bir dataframe'e atayınız.\n",
    "# Task 23: Sort by the total_bill_tip_sum variable in descending order and assign the top 30 entries to a new DataFrame.\n",
    "#########################################\n",
    "\n",
    "\n",
    "\n",
    "df_2 = df_1.sort_values(by='total_bill_tip_sum', ascending=False)[:20]\n",
    "print(df_2)"
   ]
  }
 ],
 "metadata": {
  "kaggle": {
   "accelerator": "none",
   "dataSources": [
    {
     "datasetId": 5680736,
     "sourceId": 9367488,
     "sourceType": "datasetVersion"
    },
    {
     "datasetId": 5680826,
     "sourceId": 9367602,
     "sourceType": "datasetVersion"
    }
   ],
   "dockerImageVersionId": 30761,
   "isGpuEnabled": false,
   "isInternetEnabled": false,
   "language": "python",
   "sourceType": "notebook"
  },
  "kernelspec": {
   "display_name": "Python 3",
   "language": "python",
   "name": "python3"
  },
  "language_info": {
   "codemirror_mode": {
    "name": "ipython",
    "version": 3
   },
   "file_extension": ".py",
   "mimetype": "text/x-python",
   "name": "python",
   "nbconvert_exporter": "python",
   "pygments_lexer": "ipython3",
   "version": "3.10.14"
  },
  "papermill": {
   "default_parameters": {},
   "duration": 6.638056,
   "end_time": "2024-09-11T14:01:34.401146",
   "environment_variables": {},
   "exception": null,
   "input_path": "__notebook__.ipynb",
   "output_path": "__notebook__.ipynb",
   "parameters": {},
   "start_time": "2024-09-11T14:01:27.763090",
   "version": "2.6.0"
  }
 },
 "nbformat": 4,
 "nbformat_minor": 5
}
