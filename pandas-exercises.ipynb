{
 "cells": [
  {
   "cell_type": "code",
   "execution_count": 1,
   "id": "09e39ccf",
   "metadata": {
    "execution": {
     "iopub.execute_input": "2024-09-03T08:07:53.214543Z",
     "iopub.status.busy": "2024-09-03T08:07:53.214122Z",
     "iopub.status.idle": "2024-09-03T08:07:55.117208Z",
     "shell.execute_reply": "2024-09-03T08:07:55.116342Z"
    },
    "papermill": {
     "duration": 1.913764,
     "end_time": "2024-09-03T08:07:55.119623",
     "exception": false,
     "start_time": "2024-09-03T08:07:53.205859",
     "status": "completed"
    },
    "tags": []
   },
   "outputs": [],
   "source": [
    "import numpy as np\n",
    "import seaborn as sns\n",
    "import pandas as pd\n",
    "pd.set_option('display.max_rows', None)\n",
    "pd.set_option('display.max_columns', None)\n",
    "pd.set_option('display.width', 1000)"
   ]
  },
  {
   "cell_type": "code",
   "execution_count": 2,
   "id": "1136af5f",
   "metadata": {
    "execution": {
     "iopub.execute_input": "2024-09-03T08:07:55.134542Z",
     "iopub.status.busy": "2024-09-03T08:07:55.133571Z",
     "iopub.status.idle": "2024-09-03T08:07:55.138201Z",
     "shell.execute_reply": "2024-09-03T08:07:55.137207Z"
    },
    "papermill": {
     "duration": 0.01422,
     "end_time": "2024-09-03T08:07:55.140224",
     "exception": false,
     "start_time": "2024-09-03T08:07:55.126004",
     "status": "completed"
    },
    "tags": []
   },
   "outputs": [],
   "source": [
    "#########################################\n",
    "# Görev 1: Seaborn kütüphanesi içerisinden Titanic veri setini tanımlayınız.\n",
    "# Task 1: Load the Titanic dataset from the Seaborn library.\n",
    "#########################################\n",
    "\n",
    "#df = sns.load_dataset(\"titanic\")\n",
    "#df.head()"
   ]
  },
  {
   "cell_type": "code",
   "execution_count": 3,
   "id": "a96a9866",
   "metadata": {
    "execution": {
     "iopub.execute_input": "2024-09-03T08:07:55.154260Z",
     "iopub.status.busy": "2024-09-03T08:07:55.153880Z",
     "iopub.status.idle": "2024-09-03T08:07:55.158385Z",
     "shell.execute_reply": "2024-09-03T08:07:55.157392Z"
    },
    "papermill": {
     "duration": 0.013707,
     "end_time": "2024-09-03T08:07:55.160404",
     "exception": false,
     "start_time": "2024-09-03T08:07:55.146697",
     "status": "completed"
    },
    "tags": []
   },
   "outputs": [],
   "source": [
    "#########################################\n",
    "# Görev 2: Yukarıda tanımlanan Titanic veri setindeki kadın ve erkek yolcuların sayısını bulunuz.\n",
    "# Task 2: Find the number of male and female passengers in the Titanic dataset defined above.\n",
    "#########################################\n",
    "\n",
    "#df[\"sex\"].value_counts()\n",
    "\n",
    "##output: male      577\n",
    "##        female    314"
   ]
  },
  {
   "cell_type": "code",
   "execution_count": 4,
   "id": "2aab5581",
   "metadata": {
    "execution": {
     "iopub.execute_input": "2024-09-03T08:07:55.173888Z",
     "iopub.status.busy": "2024-09-03T08:07:55.173502Z",
     "iopub.status.idle": "2024-09-03T08:07:55.177813Z",
     "shell.execute_reply": "2024-09-03T08:07:55.176842Z"
    },
    "papermill": {
     "duration": 0.013349,
     "end_time": "2024-09-03T08:07:55.179773",
     "exception": false,
     "start_time": "2024-09-03T08:07:55.166424",
     "status": "completed"
    },
    "tags": []
   },
   "outputs": [],
   "source": [
    "#########################################\n",
    "# Görev 3: Her bir sutuna ait unique değerlerin sayısını bulunuz.\n",
    "# Task 3: Find the number of unique values for each column.\n",
    "#########################################\n",
    "\n",
    "#df.nunique()"
   ]
  },
  {
   "cell_type": "code",
   "execution_count": 5,
   "id": "3e897853",
   "metadata": {
    "execution": {
     "iopub.execute_input": "2024-09-03T08:07:55.193430Z",
     "iopub.status.busy": "2024-09-03T08:07:55.193044Z",
     "iopub.status.idle": "2024-09-03T08:07:55.197502Z",
     "shell.execute_reply": "2024-09-03T08:07:55.196623Z"
    },
    "papermill": {
     "duration": 0.013671,
     "end_time": "2024-09-03T08:07:55.199573",
     "exception": false,
     "start_time": "2024-09-03T08:07:55.185902",
     "status": "completed"
    },
    "tags": []
   },
   "outputs": [],
   "source": [
    "#########################################\n",
    "# Görev 4: pclass değişkeninin unique değerleri bulunuz.\n",
    "# Task 4: Find the unique values of the pclass variable.\n",
    "#########################################\n",
    "\n",
    "#df[\"pclass\"].unique()"
   ]
  },
  {
   "cell_type": "code",
   "execution_count": 6,
   "id": "1735e04d",
   "metadata": {
    "execution": {
     "iopub.execute_input": "2024-09-03T08:07:55.212981Z",
     "iopub.status.busy": "2024-09-03T08:07:55.212621Z",
     "iopub.status.idle": "2024-09-03T08:07:55.216826Z",
     "shell.execute_reply": "2024-09-03T08:07:55.215899Z"
    },
    "papermill": {
     "duration": 0.013187,
     "end_time": "2024-09-03T08:07:55.218726",
     "exception": false,
     "start_time": "2024-09-03T08:07:55.205539",
     "status": "completed"
    },
    "tags": []
   },
   "outputs": [],
   "source": [
    "#########################################\n",
    "# Görev 5:  pclass ve parch değişkenlerinin unique değerlerinin sayısını bulunuz.\n",
    "# Task 5: Find the number of unique values for the pclass and parch variables.\n",
    "#########################################\n",
    "\n",
    "#df[[\"pclass\", \"parch\"]].nunique()"
   ]
  },
  {
   "cell_type": "code",
   "execution_count": 7,
   "id": "ef4ea212",
   "metadata": {
    "execution": {
     "iopub.execute_input": "2024-09-03T08:07:55.232344Z",
     "iopub.status.busy": "2024-09-03T08:07:55.231506Z",
     "iopub.status.idle": "2024-09-03T08:07:55.236155Z",
     "shell.execute_reply": "2024-09-03T08:07:55.235344Z"
    },
    "papermill": {
     "duration": 0.013617,
     "end_time": "2024-09-03T08:07:55.238171",
     "exception": false,
     "start_time": "2024-09-03T08:07:55.224554",
     "status": "completed"
    },
    "tags": []
   },
   "outputs": [],
   "source": [
    "#########################################\n",
    "# Görev 6: embarked değişkeninin tipini kontrol ediniz. Tipini category olarak değiştiriniz. Tekrar tipini kontrol ediniz.\n",
    "# Task 6: Check the type of the embarked variable. Change its type to category. Check its type again.\n",
    "#########################################\n",
    "\n",
    "#df[\"embarked\"].dtypes\n",
    "\n",
    "#df[\"embarked\"] = df[\"embarked\"].astype(\"category\")\n",
    "\n",
    "#df[\"embarked\"].dtypes\n",
    "\n",
    "#print(df[\"embarked\"].astype(\"category\").dtypes)"
   ]
  },
  {
   "cell_type": "code",
   "execution_count": 8,
   "id": "1920f110",
   "metadata": {
    "execution": {
     "iopub.execute_input": "2024-09-03T08:07:55.251580Z",
     "iopub.status.busy": "2024-09-03T08:07:55.250956Z",
     "iopub.status.idle": "2024-09-03T08:07:55.255345Z",
     "shell.execute_reply": "2024-09-03T08:07:55.254481Z"
    },
    "papermill": {
     "duration": 0.013189,
     "end_time": "2024-09-03T08:07:55.257350",
     "exception": false,
     "start_time": "2024-09-03T08:07:55.244161",
     "status": "completed"
    },
    "tags": []
   },
   "outputs": [],
   "source": [
    "#########################################\n",
    "# Görev 7: embarked değeri C olanların tüm bilgelerini gösteriniz.\n",
    "# Task 7: Show all records where the embarked value is 'C'.\n",
    "#########################################\n",
    "\n",
    "\n",
    "#df.loc[(df[\"embarked\"] == \"C\")]\n",
    "\n",
    "#embarked_c = df[df['embarked'] == \"C\"].head()\n",
    "#print(embarked_c)"
   ]
  },
  {
   "cell_type": "code",
   "execution_count": 9,
   "id": "9989c163",
   "metadata": {
    "execution": {
     "iopub.execute_input": "2024-09-03T08:07:55.270944Z",
     "iopub.status.busy": "2024-09-03T08:07:55.270260Z",
     "iopub.status.idle": "2024-09-03T08:07:55.274496Z",
     "shell.execute_reply": "2024-09-03T08:07:55.273590Z"
    },
    "papermill": {
     "duration": 0.013321,
     "end_time": "2024-09-03T08:07:55.276590",
     "exception": false,
     "start_time": "2024-09-03T08:07:55.263269",
     "status": "completed"
    },
    "tags": []
   },
   "outputs": [],
   "source": [
    "#########################################\n",
    "# Görev 8: embarked değeri S olmayanların tüm bilgelerini gösteriniz.\n",
    "# Task 8: Show all records where the embarked value is NOT 'S'.\n",
    "#########################################\n",
    "\n",
    "#df.loc[(df[\"embarked\"] != \"S\")]\n",
    "\n",
    "#embarked_s=df[df['embarked']!='S']\n",
    "#embarked_s.head()"
   ]
  },
  {
   "cell_type": "code",
   "execution_count": 10,
   "id": "27ca3d75",
   "metadata": {
    "execution": {
     "iopub.execute_input": "2024-09-03T08:07:55.290170Z",
     "iopub.status.busy": "2024-09-03T08:07:55.289440Z",
     "iopub.status.idle": "2024-09-03T08:07:55.293825Z",
     "shell.execute_reply": "2024-09-03T08:07:55.292865Z"
    },
    "papermill": {
     "duration": 0.013295,
     "end_time": "2024-09-03T08:07:55.295826",
     "exception": false,
     "start_time": "2024-09-03T08:07:55.282531",
     "status": "completed"
    },
    "tags": []
   },
   "outputs": [],
   "source": [
    "#########################################\n",
    "# Görev 9: Yaşı 30 dan küçük ve kadın olan yolcuların tüm bilgilerini gösteriniz.\n",
    "# Task 9: Show all records where the age is less than 30 and the passenger is female.\n",
    "#########################################\n",
    "\n",
    "#df.loc[(df[\"age\"]<30) & (df[\"sex\"]==\"female\")]\n",
    "\n",
    "#female_age_r=df[(df[\"sex\"]==\"female\") & (df[\"age\"]<30)]\n",
    "#female_age_r.head()"
   ]
  },
  {
   "cell_type": "code",
   "execution_count": 11,
   "id": "33a74c89",
   "metadata": {
    "execution": {
     "iopub.execute_input": "2024-09-03T08:07:55.309222Z",
     "iopub.status.busy": "2024-09-03T08:07:55.308866Z",
     "iopub.status.idle": "2024-09-03T08:07:55.313333Z",
     "shell.execute_reply": "2024-09-03T08:07:55.312371Z"
    },
    "papermill": {
     "duration": 0.013733,
     "end_time": "2024-09-03T08:07:55.315493",
     "exception": false,
     "start_time": "2024-09-03T08:07:55.301760",
     "status": "completed"
    },
    "tags": []
   },
   "outputs": [],
   "source": [
    "#########################################\n",
    "# Görev 10: Fare'i 500'den büyük veya yaşı 70 den büyük yolcuların bilgilerini gösteriniz.\n",
    "# Task 10: Show records where the fare is greater than 500 or the age is greater than 70.\n",
    "#########################################\n",
    "\n",
    "#df.loc[(df[\"fare\"]>500) | (df[\"age\"]>70)]\n",
    "\n",
    "#fare_r=df[(df[\"fare\"]>500) | (df[\"age\"]>70)]\n",
    "#fare_r.head()\n"
   ]
  },
  {
   "cell_type": "code",
   "execution_count": 12,
   "id": "73b30d46",
   "metadata": {
    "execution": {
     "iopub.execute_input": "2024-09-03T08:07:55.328809Z",
     "iopub.status.busy": "2024-09-03T08:07:55.328447Z",
     "iopub.status.idle": "2024-09-03T08:07:55.332661Z",
     "shell.execute_reply": "2024-09-03T08:07:55.331741Z"
    },
    "papermill": {
     "duration": 0.013138,
     "end_time": "2024-09-03T08:07:55.334542",
     "exception": false,
     "start_time": "2024-09-03T08:07:55.321404",
     "status": "completed"
    },
    "tags": []
   },
   "outputs": [],
   "source": [
    "#########################################\n",
    "# Görev 11: Her bir değişkendeki boş değerlerin toplamını bulunuz.\n",
    "# Task 11: Find the total number of missing values for each variable.\n",
    "#########################################\n",
    "\n",
    "#df.isnull().sum()"
   ]
  },
  {
   "cell_type": "code",
   "execution_count": 13,
   "id": "70e1d57d",
   "metadata": {
    "execution": {
     "iopub.execute_input": "2024-09-03T08:07:55.347433Z",
     "iopub.status.busy": "2024-09-03T08:07:55.347078Z",
     "iopub.status.idle": "2024-09-03T08:07:55.351353Z",
     "shell.execute_reply": "2024-09-03T08:07:55.350464Z"
    },
    "papermill": {
     "duration": 0.012946,
     "end_time": "2024-09-03T08:07:55.353285",
     "exception": false,
     "start_time": "2024-09-03T08:07:55.340339",
     "status": "completed"
    },
    "tags": []
   },
   "outputs": [],
   "source": [
    "#########################################\n",
    "# Görev 12: who değişkenini dataframe'den düşürün.\n",
    "# Task 12: Drop the who variable from the DataFrame.\n",
    "#########################################\n",
    "\n",
    "#df.drop('who', axis=1).head()"
   ]
  },
  {
   "cell_type": "code",
   "execution_count": 14,
   "id": "94428c5b",
   "metadata": {
    "execution": {
     "iopub.execute_input": "2024-09-03T08:07:55.367143Z",
     "iopub.status.busy": "2024-09-03T08:07:55.366328Z",
     "iopub.status.idle": "2024-09-03T08:07:55.370819Z",
     "shell.execute_reply": "2024-09-03T08:07:55.369896Z"
    },
    "papermill": {
     "duration": 0.013624,
     "end_time": "2024-09-03T08:07:55.372847",
     "exception": false,
     "start_time": "2024-09-03T08:07:55.359223",
     "status": "completed"
    },
    "tags": []
   },
   "outputs": [],
   "source": [
    "#########################################\n",
    "# Görev 13: deck değikenindeki boş değerleri deck değişkenin en çok tekrar eden değeri (mode) ile doldurunuz.\n",
    "# Task 13: Fill the missing values in the deck variable with the most frequent value (mode) of the deck variable.\n",
    "#########################################\n",
    "\n",
    "#df['deck'] = df['deck'].fillna(df['deck'].mode()[0])\n",
    "#df['deck'].isnull().sum()"
   ]
  },
  {
   "cell_type": "code",
   "execution_count": 15,
   "id": "296604b7",
   "metadata": {
    "execution": {
     "iopub.execute_input": "2024-09-03T08:07:55.386059Z",
     "iopub.status.busy": "2024-09-03T08:07:55.385402Z",
     "iopub.status.idle": "2024-09-03T08:07:55.389749Z",
     "shell.execute_reply": "2024-09-03T08:07:55.388809Z"
    },
    "papermill": {
     "duration": 0.01322,
     "end_time": "2024-09-03T08:07:55.391904",
     "exception": false,
     "start_time": "2024-09-03T08:07:55.378684",
     "status": "completed"
    },
    "tags": []
   },
   "outputs": [],
   "source": [
    "#########################################\n",
    "# Görev 14: age değikenindeki boş değerleri age değişkenin medyanı ile doldurun.\n",
    "# Task 14: Fill the missing values in the age variable with the median value of the age variable.\n",
    "#########################################\n",
    "\n",
    "#df['age'] = df['age'].fillna(df['age'].median())\n",
    "#df['age'].isnull().sum()"
   ]
  },
  {
   "cell_type": "code",
   "execution_count": 16,
   "id": "e4d3fe0c",
   "metadata": {
    "execution": {
     "iopub.execute_input": "2024-09-03T08:07:55.405001Z",
     "iopub.status.busy": "2024-09-03T08:07:55.404636Z",
     "iopub.status.idle": "2024-09-03T08:07:55.408932Z",
     "shell.execute_reply": "2024-09-03T08:07:55.407938Z"
    },
    "papermill": {
     "duration": 0.013441,
     "end_time": "2024-09-03T08:07:55.411076",
     "exception": false,
     "start_time": "2024-09-03T08:07:55.397635",
     "status": "completed"
    },
    "tags": []
   },
   "outputs": [],
   "source": [
    "#########################################\n",
    "# Görev 15: survived değişkeninin Pclass ve Cinsiyet değişkenleri kırılımınında sum, count, mean değerlerini bulunuz.\n",
    "# Task 15: Find the sum, count, and mean values of the survived variable by the pclass and sex variables.\n",
    "#########################################\n",
    "\n",
    "#df.groupby([\"pclass\", \"sex\"]).agg({\"survived\": [\"sum\", \"count\", \"mean\"]})"
   ]
  },
  {
   "cell_type": "code",
   "execution_count": 17,
   "id": "d1d4d2c2",
   "metadata": {
    "execution": {
     "iopub.execute_input": "2024-09-03T08:07:55.424320Z",
     "iopub.status.busy": "2024-09-03T08:07:55.423962Z",
     "iopub.status.idle": "2024-09-03T08:07:55.428848Z",
     "shell.execute_reply": "2024-09-03T08:07:55.427905Z"
    },
    "papermill": {
     "duration": 0.013916,
     "end_time": "2024-09-03T08:07:55.430963",
     "exception": false,
     "start_time": "2024-09-03T08:07:55.417047",
     "status": "completed"
    },
    "tags": []
   },
   "outputs": [],
   "source": [
    "#########################################\n",
    "# Görev 16:  30 yaşın altında olanlar 1, 30'a eşit ve üstünde olanlara 0 vericek bir fonksiyon yazınız.\n",
    "# Yazdığınız fonksiyonu kullanarak titanik veri setinde age_flag adında bir değişken oluşturunuz oluşturunuz. (apply ve lambda yapılarını kullanınız)\n",
    "\n",
    "#Task 16: Write a function that assigns 1 to passengers under 30 years old and 0 to those 30 years old and older.\n",
    "# Create a new variable called age_flag in the Titanic dataset using this function with apply and lambda.\n",
    "#########################################\n",
    "\n",
    "#def age_funct(age):\n",
    "#    return 1 if age < 30 else 0\n",
    "\n",
    "#######df['age_flag'] = df['age'].apply(age_funct).head()\n",
    "\n",
    "#df['age_flag'] = df['age'].apply(lambda age: 1 if age < 30 else 0)\n",
    "\n",
    "#df['age_flag']"
   ]
  },
  {
   "cell_type": "code",
   "execution_count": 18,
   "id": "77daab61",
   "metadata": {
    "execution": {
     "iopub.execute_input": "2024-09-03T08:07:55.444536Z",
     "iopub.status.busy": "2024-09-03T08:07:55.443896Z",
     "iopub.status.idle": "2024-09-03T08:07:55.448366Z",
     "shell.execute_reply": "2024-09-03T08:07:55.447284Z"
    },
    "papermill": {
     "duration": 0.013615,
     "end_time": "2024-09-03T08:07:55.450510",
     "exception": false,
     "start_time": "2024-09-03T08:07:55.436895",
     "status": "completed"
    },
    "tags": []
   },
   "outputs": [],
   "source": [
    "#########################################\n",
    "# Görev 17: Seaborn kütüphanesi içerisinden Tips veri setini tanımlayınız.\n",
    "# Task 17: Load the Tips dataset from the Seaborn library.\n",
    "#########################################\n",
    "\n",
    "#df_1 = sns.load_dataset(\"tips\")\n",
    "#df_1.head()"
   ]
  },
  {
   "cell_type": "code",
   "execution_count": 19,
   "id": "23a6f8de",
   "metadata": {
    "execution": {
     "iopub.execute_input": "2024-09-03T08:07:55.464379Z",
     "iopub.status.busy": "2024-09-03T08:07:55.463683Z",
     "iopub.status.idle": "2024-09-03T08:07:55.468082Z",
     "shell.execute_reply": "2024-09-03T08:07:55.467144Z"
    },
    "papermill": {
     "duration": 0.013603,
     "end_time": "2024-09-03T08:07:55.470103",
     "exception": false,
     "start_time": "2024-09-03T08:07:55.456500",
     "status": "completed"
    },
    "tags": []
   },
   "outputs": [],
   "source": [
    "#########################################\n",
    "# Görev 18: Time değişkeninin kategorilerine (Dinner, Lunch) göre total_bill  değerlerinin toplamını, min, max ve ortalamasını bulunuz.\n",
    "# Task 18: For the categories of the time variable (Dinner, Lunch), find the total, min, max, and average values of the total_bill variable.\n",
    "#########################################\n",
    "\n",
    "#df_1[\"time\"].value_counts()\n",
    "\n",
    "#df_1.groupby(\"time\").agg({\"total_bill\": [\"sum\", \"min\", \"max\", \"mean\"]})"
   ]
  },
  {
   "cell_type": "code",
   "execution_count": 20,
   "id": "6aedbacc",
   "metadata": {
    "execution": {
     "iopub.execute_input": "2024-09-03T08:07:55.483316Z",
     "iopub.status.busy": "2024-09-03T08:07:55.482940Z",
     "iopub.status.idle": "2024-09-03T08:07:55.487627Z",
     "shell.execute_reply": "2024-09-03T08:07:55.486515Z"
    },
    "papermill": {
     "duration": 0.013727,
     "end_time": "2024-09-03T08:07:55.489688",
     "exception": false,
     "start_time": "2024-09-03T08:07:55.475961",
     "status": "completed"
    },
    "tags": []
   },
   "outputs": [],
   "source": [
    "#########################################\n",
    "# Görev 19: Günlere ve time göre total_bill değerlerinin toplamını, min, max ve ortalamasını bulunuz.\n",
    "# Task 19: For each day and time, find the total, min, max values of the total_bill variable.\n",
    "#########################################\n",
    "\n",
    "#df_1.groupby([\"time\", \"day\"]).agg({\"total_bill\": [\"sum\", \"min\", \"max\"]})"
   ]
  },
  {
   "cell_type": "code",
   "execution_count": 21,
   "id": "758a24b3",
   "metadata": {
    "execution": {
     "iopub.execute_input": "2024-09-03T08:07:55.503895Z",
     "iopub.status.busy": "2024-09-03T08:07:55.502934Z",
     "iopub.status.idle": "2024-09-03T08:07:55.507627Z",
     "shell.execute_reply": "2024-09-03T08:07:55.506647Z"
    },
    "papermill": {
     "duration": 0.013978,
     "end_time": "2024-09-03T08:07:55.509572",
     "exception": false,
     "start_time": "2024-09-03T08:07:55.495594",
     "status": "completed"
    },
    "tags": []
   },
   "outputs": [],
   "source": [
    "#########################################\n",
    "# Görev 20:Lunch zamanına ve kadın müşterilere ait total_bill ve tip  değerlerinin day'e göre toplamını, min, max ve ortalamasını bulunuz.\n",
    "# Task 20: For Lunch time and female customers, find the total, min, max, and average values of total_bill and tip by day.\n",
    "#########################################\n",
    "\n",
    "#df_1.head()\n",
    "\n",
    "#female_lunch = df_1.loc[(df_1[\"time\"]==\"Lunch\") & (df_1[\"sex\"]==\"Female\")]\n",
    "#female_lunch_agg = female_lunch.groupby(\"day\").agg({\"total_bill\": [\"sum\", \"min\", \"max\", \"mean\"],\n",
    "#                                 \"tip\": [\"sum\", \"min\", \"max\", \"mean\"]})"
   ]
  },
  {
   "cell_type": "code",
   "execution_count": 22,
   "id": "f2999d00",
   "metadata": {
    "execution": {
     "iopub.execute_input": "2024-09-03T08:07:55.523341Z",
     "iopub.status.busy": "2024-09-03T08:07:55.522437Z",
     "iopub.status.idle": "2024-09-03T08:07:55.527070Z",
     "shell.execute_reply": "2024-09-03T08:07:55.526086Z"
    },
    "papermill": {
     "duration": 0.01377,
     "end_time": "2024-09-03T08:07:55.529173",
     "exception": false,
     "start_time": "2024-09-03T08:07:55.515403",
     "status": "completed"
    },
    "tags": []
   },
   "outputs": [],
   "source": [
    "#########################################\n",
    "# Görev 21: size'i 3'ten küçük, total_bill'i 10'dan büyük olan siparişlerin ortalaması nedir?\n",
    "# Task 21: What is the average of orders where the size is less than 3 and total_bill is greater than 10?\n",
    "#########################################\n",
    "\n",
    "#filt_bill = df_1.loc[(df_1[\"size\"] < 3) & (df_1[\"total_bill\"] > 10)]\n",
    "\n",
    "#filt_bill[\"total_bill\"].mean()\n",
    "\n",
    "#fil_bill_avr = filt_bill[\"total_bill\"].mean()"
   ]
  },
  {
   "cell_type": "code",
   "execution_count": 23,
   "id": "4a71e168",
   "metadata": {
    "execution": {
     "iopub.execute_input": "2024-09-03T08:07:55.542729Z",
     "iopub.status.busy": "2024-09-03T08:07:55.542031Z",
     "iopub.status.idle": "2024-09-03T08:07:55.546929Z",
     "shell.execute_reply": "2024-09-03T08:07:55.545822Z"
    },
    "papermill": {
     "duration": 0.014121,
     "end_time": "2024-09-03T08:07:55.549171",
     "exception": false,
     "start_time": "2024-09-03T08:07:55.535050",
     "status": "completed"
    },
    "tags": []
   },
   "outputs": [],
   "source": [
    "#########################################\n",
    "# Görev 22: total_bill_tip_sum adında yeni bir değişken oluşturun. Her bir müşterinin ödediği totalbill ve tip in toplamını versin.\n",
    "# ask 22: Create a new variable called total_bill_tip_sum which is the sum of total_bill and tip for each customer.\n",
    "#########################################\n",
    "\n",
    "#df_1.head()\n",
    "\n",
    "#df_1[\"total_bill_tip_sum\"] = df_1[\"total_bill\"] + df_1[\"tip\"]\n",
    "\n",
    "#df_1[[\"total_bill_tip_sum\", \"total_bill\", \"tip\"]].head()"
   ]
  },
  {
   "cell_type": "code",
   "execution_count": 24,
   "id": "835c1f15",
   "metadata": {
    "execution": {
     "iopub.execute_input": "2024-09-03T08:07:55.563479Z",
     "iopub.status.busy": "2024-09-03T08:07:55.562518Z",
     "iopub.status.idle": "2024-09-03T08:07:55.567371Z",
     "shell.execute_reply": "2024-09-03T08:07:55.566361Z"
    },
    "papermill": {
     "duration": 0.014229,
     "end_time": "2024-09-03T08:07:55.569445",
     "exception": false,
     "start_time": "2024-09-03T08:07:55.555216",
     "status": "completed"
    },
    "tags": []
   },
   "outputs": [],
   "source": [
    "#########################################\n",
    "# Görev 23: total_bill_tip_sum değişkenine göre büyükten küçüğe sıralayınız ve ilk 30 kişiyi yeni bir dataframe'e atayınız.\n",
    "# Task 23: Sort by the total_bill_tip_sum variable in descending order and assign the top 30 entries to a new DataFrame.\n",
    "#########################################\n",
    "\n",
    "\n",
    "\n",
    "#df_2 = df_1.sort_values(by='total_bill_tip_sum', ascending=False).head(30)\n",
    "\n",
    "########df_2 = df_1[\"total_bill_tip_sum\"].sort_values(ascending=False).head(30)"
   ]
  },
  {
   "cell_type": "code",
   "execution_count": null,
   "id": "1115f440",
   "metadata": {
    "papermill": {
     "duration": 0.005854,
     "end_time": "2024-09-03T08:07:55.581314",
     "exception": false,
     "start_time": "2024-09-03T08:07:55.575460",
     "status": "completed"
    },
    "tags": []
   },
   "outputs": [],
   "source": []
  }
 ],
 "metadata": {
  "kaggle": {
   "accelerator": "none",
   "dataSources": [],
   "dockerImageVersionId": 30761,
   "isGpuEnabled": false,
   "isInternetEnabled": false,
   "language": "python",
   "sourceType": "notebook"
  },
  "kernelspec": {
   "display_name": "Python 3",
   "language": "python",
   "name": "python3"
  },
  "language_info": {
   "codemirror_mode": {
    "name": "ipython",
    "version": 3
   },
   "file_extension": ".py",
   "mimetype": "text/x-python",
   "name": "python",
   "nbconvert_exporter": "python",
   "pygments_lexer": "ipython3",
   "version": "3.10.14"
  },
  "papermill": {
   "default_parameters": {},
   "duration": 5.513403,
   "end_time": "2024-09-03T08:07:56.107141",
   "environment_variables": {},
   "exception": null,
   "input_path": "__notebook__.ipynb",
   "output_path": "__notebook__.ipynb",
   "parameters": {},
   "start_time": "2024-09-03T08:07:50.593738",
   "version": "2.6.0"
  }
 },
 "nbformat": 4,
 "nbformat_minor": 5
}
